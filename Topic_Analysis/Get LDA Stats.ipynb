{
 "cells": [
  {
   "cell_type": "markdown",
   "metadata": {},
   "source": [
    "## Since my LDA script died without displaying results, here I load the models and do coherence metrics on them"
   ]
  },
  {
   "cell_type": "code",
   "execution_count": 24,
   "metadata": {},
   "outputs": [],
   "source": [
    "from gensim.models.coherencemodel import CoherenceModel\n",
    "from gensim.corpora import Dictionary\n",
    "from gensim.models.ldamodel import LdaModel\n",
    "import gensim\n",
    "import pickle\n",
    "import pandas as pd\n"
   ]
  },
  {
   "cell_type": "code",
   "execution_count": 7,
   "metadata": {},
   "outputs": [],
   "source": [
    "corpus = pickle.load(open('movies_corpus.pkl', 'rb'))\n",
    "dictionary = Dictionary.load('movies_dictionary.gensim')\n"
   ]
  },
  {
   "cell_type": "code",
   "execution_count": 15,
   "metadata": {},
   "outputs": [
    {
     "name": "stdout",
     "output_type": "stream",
     "text": [
      "5 -1.5017030767554833\n",
      "10 -1.7466992788270357\n",
      "15 -2.0914635993686392\n",
      "20 -2.356574314374245\n",
      "25 -2.7079870709406015\n",
      "30 -3.497461721622914\n",
      "40 -3.2266735710470145\n",
      "50 -3.946754633159057\n",
      "60 -5.058233242826591\n",
      "[(5, -1.5017030767554833), (10, -1.7466992788270357), (15, -2.0914635993686392), (20, -2.356574314374245), (25, -2.7079870709406015), (30, -3.497461721622914), (40, -3.2266735710470145), (50, -3.946754633159057), (60, -5.058233242826591)]\n"
     ]
    }
   ],
   "source": [
    "TOPIC_SIZES = [5, 10, 15, 20, 25, 30, 40, 50, 60]\n",
    "results = []\n",
    "for topic_size in TOPIC_SIZES:\n",
    "    fname = 'movies_topics_' + str(topic_size) + '.gensim'\n",
    "    ldatmp = LdaModel.load(fname) #, mmap='r')\n",
    "    cm = CoherenceModel(model=ldatmp, corpus=corpus, coherence='u_mass')\n",
    "    coherence = cm.get_coherence()\n",
    "    print (topic_size, coherence)\n",
    "    results.append((topic_size, coherence))\n",
    "\n",
    "print (results)"
   ]
  },
  {
   "cell_type": "code",
   "execution_count": 19,
   "metadata": {},
   "outputs": [],
   "source": [
    "import matplotlib.pyplot as plt"
   ]
  },
  {
   "cell_type": "code",
   "execution_count": 22,
   "metadata": {},
   "outputs": [],
   "source": [
    "sizes = [xy[0] for xy in results]\n",
    "coherences = [xy[1] for xy in results]"
   ]
  },
  {
   "cell_type": "code",
   "execution_count": 23,
   "metadata": {},
   "outputs": [
    {
     "data": {
      "text/plain": [
       "[<matplotlib.lines.Line2D at 0x247e9dd93c8>]"
      ]
     },
     "execution_count": 23,
     "metadata": {},
     "output_type": "execute_result"
    },
    {
     "data": {
      "image/png": "[encoded data removed]",
      "text/plain": [
       "<Figure size 432x288 with 1 Axes>"
      ]
     },
     "metadata": {
      "needs_background": "light"
     },
     "output_type": "display_data"
    }
   ],
   "source": [
    "plt.plot(sizes, coherences)"
   ]
  },
  {
   "cell_type": "code",
   "execution_count": 26,
   "metadata": {},
   "outputs": [],
   "source": [
    "# c_v metric requires the texts (list of list of str)\n",
    "reviews = pd.read_csv(\"..\\\\Data_Processing\\\\cleaned.csv\",encoding=\"utf-8\")\n",
    "texts = reviews[\"cleaned\"].apply(lambda s: s.split(' '))"
   ]
  },
  {
   "cell_type": "code",
   "execution_count": 27,
   "metadata": {},
   "outputs": [
    {
     "name": "stdout",
     "output_type": "stream",
     "text": [
      "5 0.31519890368774384\n",
      "10 0.3559736725066792\n",
      "15 0.4179739945727181\n",
      "20 0.40434517109739937\n",
      "25 0.41498168564606047\n",
      "30 0.40551916529431326\n",
      "40 0.42329546235587134\n",
      "50 0.41460830225761147\n",
      "60 0.40425941580730446\n",
      "[(5, 0.31519890368774384), (10, 0.3559736725066792), (15, 0.4179739945727181), (20, 0.40434517109739937), (25, 0.41498168564606047), (30, 0.40551916529431326), (40, 0.42329546235587134), (50, 0.41460830225761147), (60, 0.40425941580730446)]\n"
     ]
    }
   ],
   "source": [
    "TOPIC_SIZES = [5, 10, 15, 20, 25, 30, 40, 50, 60]\n",
    "results_cv = []\n",
    "for topic_size in TOPIC_SIZES:\n",
    "    fname = 'movies_topics_' + str(topic_size) + '.gensim'\n",
    "    ldatmp = LdaModel.load(fname) #, mmap='r')\n",
    "    cm = CoherenceModel(model=ldatmp, texts=texts, coherence='c_v')\n",
    "    coherence = cm.get_coherence()\n",
    "    print (topic_size, coherence)\n",
    "    results_cv.append((topic_size, coherence))\n",
    "\n",
    "print (results_cv)"
   ]
  },
  {
   "cell_type": "code",
   "execution_count": 28,
   "metadata": {},
   "outputs": [],
   "source": [
    "sizes_cv = [xy[0] for xy in results_cv]\n",
    "coherences_cv = [xy[1] for xy in results_cv]"
   ]
  },
  {
   "cell_type": "code",
   "execution_count": 29,
   "metadata": {},
   "outputs": [
    {
     "data": {
      "text/plain": [
       "[<matplotlib.lines.Line2D at 0x247002cf2b0>]"
      ]
     },
     "execution_count": 29,
     "metadata": {},
     "output_type": "execute_result"
    },
    {
     "data": {
      "image/png": "[encoded data removed]",
      "text/plain": [
       "<Figure size 432x288 with 1 Axes>"
      ]
     },
     "metadata": {
      "needs_background": "light"
     },
     "output_type": "display_data"
    }
   ],
   "source": [
    "plt.plot(sizes_cv, coherences_cv)"
   ]
  },
  {
   "cell_type": "code",
   "execution_count": null,
   "metadata": {},
   "outputs": [],
   "source": []
  }
 ],
 "metadata": {
  "kernelspec": {
   "display_name": "Python 3",
   "language": "python",
   "name": "python3"
  },
  "language_info": {
   "codemirror_mode": {
    "name": "ipython",
    "version": 3
   },
   "file_extension": ".py",
   "mimetype": "text/x-python",
   "name": "python",
   "nbconvert_exporter": "python",
   "pygments_lexer": "ipython3",
   "version": "3.6.7"
  }
 },
 "nbformat": 4,
 "nbformat_minor": 2
}
