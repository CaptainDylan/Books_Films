{
 "cells": [
  {
   "cell_type": "code",
   "execution_count": 7,
   "metadata": {},
   "outputs": [],
   "source": [
    "import os  \n",
    "import time\n",
    "import csv\n",
    "from selenium import webdriver  \n",
    "from selenium.webdriver.common.keys import Keys  \n",
    "from selenium.webdriver.chrome.options import Options  \n",
    "\n",
    "chrome_options = Options()  \n",
    "chrome_options.add_argument(\"--headless\")  \n",
    "chrome_options.binary_location = 'C:\\Program Files (x86)\\Google\\Chrome\\Application\\Chrome.exe'  \n",
    "\n",
    "driver = webdriver.Chrome(executable_path=os.path.abspath(\"C:\\OMSA\\ChromeDriver\\ChromeDriver\"), options=chrome_options)  \n"
   ]
  },
  {
   "cell_type": "code",
   "execution_count": 8,
   "metadata": {},
   "outputs": [],
   "source": [
    "def get_imdb_reviews(tt):\n",
    "#     driver.get(\"https://www.imdb.com/title/tt0056592/reviews?ref_=tt_urv\") \n",
    "    driver.get(\"https://www.imdb.com/title/\"+tt+\"/reviews\")\n",
    "    click_count = 0\n",
    "    while True:\n",
    "        try:\n",
    "            load_button = driver.find_element_by_id('load-more-trigger')\n",
    "            load_button.click()\n",
    "            click_count = click_count + 1\n",
    "            print(str(click_count))\n",
    "            time.sleep(5)\n",
    "            continue\n",
    "        except Exception as e: \n",
    "            print(\"No more found\")\n",
    "            print(\"Total Clicks: \" + str(click_count))\n",
    "            break\n",
    "            \n",
    "    reviews = driver.find_elements_by_css_selector(\"div.review-container  .content  .text\")\n",
    "    \n",
    "    output = []\n",
    "    review_clicks = 0\n",
    "\n",
    "    for idx, review in enumerate(reviews):\n",
    "        if 'clickable' in review.get_attribute('class'):\n",
    "            review.click()\n",
    "            review_clicks = review_clicks + 1\n",
    "\n",
    "        output.append(review.text)\n",
    "\n",
    "    return output\n"
   ]
  },
  {
   "cell_type": "code",
   "execution_count": 9,
   "metadata": {},
   "outputs": [
    {
     "name": "stdout",
     "output_type": "stream",
     "text": [
      "No more found\n",
      "Total Clicks: 0\n",
      "1\n",
      "2\n",
      "3\n",
      "4\n",
      "5\n",
      "6\n",
      "7\n",
      "8\n",
      "9\n",
      "10\n",
      "11\n",
      "12\n",
      "13\n",
      "14\n",
      "15\n",
      "16\n",
      "No more found\n",
      "Total Clicks: 16\n"
     ]
    }
   ],
   "source": [
    "input_file = 'C:\\\\OMSA\\\\CS6242\\\\Project\\\\dva_sp19\\\\Movie_Data_Collection\\\\tmdb_to_imdb_id_mapping.csv'\n",
    "\n",
    "line_count = 0\n",
    "\n",
    "\n",
    "with open(input_file) as csvfile:\n",
    "    readCSV = csv.reader(csvfile, delimiter=',')\n",
    "    with open('movie_reviews.csv', mode='w', encoding='utf8', newline='') as review_file:\n",
    "        review_writer = csv.writer(review_file, delimiter=',', quotechar='\"', quoting=csv.QUOTE_MINIMAL)\n",
    "        review_writer.writerow(['imdbid', 'reviewid', 'review'])\n",
    "        for movie in readCSV:\n",
    "            line_count = line_count + 1\n",
    "            #Skip header in read\n",
    "            if line_count == 1:\n",
    "                continue\n",
    "            \n",
    "            #Get the IMDBId\n",
    "            tt = movie[2]\n",
    "            if tt == '':\n",
    "                continue\n",
    "\n",
    "            reviews = get_imdb_reviews(tt)\n",
    "            for idx, review in enumerate(reviews):                \n",
    "                review_writer.writerow([tt,idx,review])\n",
    "            \n",
    "            #Wait between movies\n",
    "            time.sleep(10)\n",
    "            \n",
    "            #Hardcoded to only run a few\n",
    "            movie_count = 2\n",
    "            if line_count > movie_count:\n",
    "                break"
   ]
  },
  {
   "cell_type": "code",
   "execution_count": null,
   "metadata": {},
   "outputs": [],
   "source": [
    "driver.close()"
   ]
  },
  {
   "cell_type": "code",
   "execution_count": null,
   "metadata": {},
   "outputs": [],
   "source": []
  }
 ],
 "metadata": {
  "kernelspec": {
   "display_name": "Python 3",
   "language": "python",
   "name": "python3"
  },
  "language_info": {
   "codemirror_mode": {
    "name": "ipython",
    "version": 3
   },
   "file_extension": ".py",
   "mimetype": "text/x-python",
   "name": "python",
   "nbconvert_exporter": "python",
   "pygments_lexer": "ipython3",
   "version": "3.7.2"
  }
 },
 "nbformat": 4,
 "nbformat_minor": 2
}
