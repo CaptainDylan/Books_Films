{
 "cells": [
  {
   "cell_type": "code",
   "execution_count": 4,
   "metadata": {
    "collapsed": true
   },
   "outputs": [],
   "source": [
    "#import pandas as pd\n",
    "import MySQLdb\n",
    "from langdetect import detect"
   ]
  },
  {
   "cell_type": "code",
   "execution_count": 3,
   "metadata": {
    "collapsed": true
   },
   "outputs": [],
   "source": [
    "def getlang(str):\n",
    "    try:\n",
    "        result = detect(str)\n",
    "    except:\n",
    "        result = \"??\"\n",
    "    return result"
   ]
  },
  {
   "cell_type": "code",
   "execution_count": 13,
   "metadata": {
    "collapsed": true
   },
   "outputs": [],
   "source": [
    "table_name = \"movie_reviews_raw\"\n",
    "sql_string = \"select id, review from \" + table_name + \" where review is not null and language is null\"\n",
    "db = MySQLdb.connect(host=\"dvaproject.c9f0lti9xqdg.us-east-1.rds.amazonaws.com\",user=\"dva\",passwd=\"DVA2019!\",db=\"reviews\")\n"
   ]
  },
  {
   "cell_type": "code",
   "execution_count": 14,
   "metadata": {},
   "outputs": [],
   "source": [
    "def UpdateLang(db, index, review, table_name):\n",
    "    lang = getlang(review)\n",
    "    insertstr = \"UPDATE \" + table_name + \" SET language = %s WHERE id = %s\"\n",
    "    try:\n",
    "        logcur = db.cursor()\n",
    "        logcur.execute(insertstr, (lang, index))\n",
    "        db.commit()\n",
    "        logcur.close()\n",
    "    except (MySQLdb.Error) as e:\n",
    "        print (e)\n"
   ]
  },
  {
   "cell_type": "code",
   "execution_count": 15,
   "metadata": {},
   "outputs": [],
   "source": [
    "cur = db.cursor()\n",
    "Rowcount = cur.execute(sql_string)\n",
    "\n",
    "for row in cur:\n",
    "    UpdateLang(db, row[0], row[1], table_name)\n",
    "\n",
    "cur.close()\n",
    "\n"
   ]
  },
  {
   "cell_type": "code",
   "execution_count": null,
   "metadata": {
    "collapsed": true
   },
   "outputs": [],
   "source": []
  }
 ],
 "metadata": {
  "kernelspec": {
   "display_name": "Python 3",
   "language": "python",
   "name": "python3"
  },
  "language_info": {
   "codemirror_mode": {
    "name": "ipython",
    "version": 3
   },
   "file_extension": ".py",
   "mimetype": "text/x-python",
   "name": "python",
   "nbconvert_exporter": "python",
   "pygments_lexer": "ipython3",
   "version": "3.6.6"
  }
 },
 "nbformat": 4,
 "nbformat_minor": 2
}
