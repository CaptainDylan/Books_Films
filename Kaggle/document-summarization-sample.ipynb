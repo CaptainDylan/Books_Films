{
 "cells": [
  {
   "cell_type": "code",
   "execution_count": 1,
   "id": "8eac8746",
   "metadata": {
    "_cell_guid": "b1076dfc-b9ad-4769-8c92-a6c4dae69d19",
    "_uuid": "8f2839f25d086af736a60e9eeb907d3b93b6e0e5",
    "execution": {
     "iopub.execute_input": "2022-11-06T21:12:39.744858Z",
     "iopub.status.busy": "2022-11-06T21:12:39.744451Z",
     "iopub.status.idle": "2022-11-06T21:12:39.760966Z",
     "shell.execute_reply": "2022-11-06T21:12:39.759841Z"
    },
    "papermill": {
     "duration": 0.023322,
     "end_time": "2022-11-06T21:12:39.762799",
     "exception": false,
     "start_time": "2022-11-06T21:12:39.739477",
     "status": "completed"
    },
    "tags": []
   },
   "outputs": [
    {
     "name": "stdout",
     "output_type": "stream",
     "text": [
      "/kaggle/input/books-movies-reviews/books_films_reviews.sqlite3\n"
     ]
    }
   ],
   "source": [
    "# This Python 3 environment comes with many helpful analytics libraries installed\n",
    "# It is defined by the kaggle/python Docker image: https://github.com/kaggle/docker-python\n",
    "# For example, here's several helpful packages to load\n",
    "\n",
    "import numpy as np # linear algebra\n",
    "import pandas as pd # data processing, CSV file I/O (e.g. pd.read_csv)\n",
    "\n",
    "# Input data files are available in the read-only \"../input/\" directory\n",
    "# For example, running this (by clicking run or pressing Shift+Enter) will list all files under the input directory\n",
    "\n",
    "import os\n",
    "for dirname, _, filenames in os.walk('/kaggle/input'):\n",
    "    for filename in filenames:\n",
    "        print(os.path.join(dirname, filename))\n",
    "\n",
    "# You can write up to 20GB to the current directory (/kaggle/working/) that gets preserved as output when you create a version using \"Save & Run All\" \n",
    "# You can also write temporary files to /kaggle/temp/, but they won't be saved outside of the current session"
   ]
  },
  {
   "cell_type": "code",
   "execution_count": 2,
   "id": "33cef3c8",
   "metadata": {
    "execution": {
     "iopub.execute_input": "2022-11-06T21:12:39.769269Z",
     "iopub.status.busy": "2022-11-06T21:12:39.768968Z",
     "iopub.status.idle": "2022-11-06T21:12:40.984483Z",
     "shell.execute_reply": "2022-11-06T21:12:40.983806Z"
    },
    "papermill": {
     "duration": 1.221111,
     "end_time": "2022-11-06T21:12:40.986728",
     "exception": false,
     "start_time": "2022-11-06T21:12:39.765617",
     "status": "completed"
    },
    "tags": []
   },
   "outputs": [],
   "source": [
    "from nltk import tokenize, word_tokenize\n",
    "from nltk.corpus import stopwords\n",
    "import re"
   ]
  },
  {
   "cell_type": "code",
   "execution_count": 3,
   "id": "78b44748",
   "metadata": {
    "execution": {
     "iopub.execute_input": "2022-11-06T21:12:40.993499Z",
     "iopub.status.busy": "2022-11-06T21:12:40.993208Z",
     "iopub.status.idle": "2022-11-06T21:12:41.002008Z",
     "shell.execute_reply": "2022-11-06T21:12:41.001176Z"
    },
    "papermill": {
     "duration": 0.01456,
     "end_time": "2022-11-06T21:12:41.004295",
     "exception": false,
     "start_time": "2022-11-06T21:12:40.989735",
     "status": "completed"
    },
    "tags": []
   },
   "outputs": [],
   "source": [
    "STOP_WORDS = stopwords.words('english')"
   ]
  },
  {
   "cell_type": "markdown",
   "id": "0c0cf97b",
   "metadata": {
    "papermill": {
     "duration": 0.002459,
     "end_time": "2022-11-06T21:12:41.009776",
     "exception": false,
     "start_time": "2022-11-06T21:12:41.007317",
     "status": "completed"
    },
    "tags": []
   },
   "source": [
    "The goal is to summarize each document by finding the sentences with the highest combindation of word weights.  The basic idea comes from here:  https://towardsdatascience.com/summarize-a-text-with-python-b3b260c60e72"
   ]
  },
  {
   "cell_type": "code",
   "execution_count": 4,
   "id": "1b82de96",
   "metadata": {
    "execution": {
     "iopub.execute_input": "2022-11-06T21:12:41.016031Z",
     "iopub.status.busy": "2022-11-06T21:12:41.015761Z",
     "iopub.status.idle": "2022-11-06T21:12:45.925991Z",
     "shell.execute_reply": "2022-11-06T21:12:45.924786Z"
    },
    "papermill": {
     "duration": 4.915615,
     "end_time": "2022-11-06T21:12:45.927984",
     "exception": false,
     "start_time": "2022-11-06T21:12:41.012369",
     "status": "completed"
    },
    "tags": []
   },
   "outputs": [
    {
     "data": {
      "text/html": [
       "<div>\n",
       "<style scoped>\n",
       "    .dataframe tbody tr th:only-of-type {\n",
       "        vertical-align: middle;\n",
       "    }\n",
       "\n",
       "    .dataframe tbody tr th {\n",
       "        vertical-align: top;\n",
       "    }\n",
       "\n",
       "    .dataframe thead th {\n",
       "        text-align: right;\n",
       "    }\n",
       "</style>\n",
       "<table border=\"1\" class=\"dataframe\">\n",
       "  <thead>\n",
       "    <tr style=\"text-align: right;\">\n",
       "      <th></th>\n",
       "      <th>book_id</th>\n",
       "      <th>review_id</th>\n",
       "      <th>rating</th>\n",
       "      <th>review_text</th>\n",
       "      <th>language</th>\n",
       "      <th>id</th>\n",
       "      <th>primary_topic_id</th>\n",
       "      <th>primary_topic_prob</th>\n",
       "      <th>rating_numeric</th>\n",
       "    </tr>\n",
       "  </thead>\n",
       "  <tbody>\n",
       "    <tr>\n",
       "      <th>0</th>\n",
       "      <td>1</td>\n",
       "      <td>829021593</td>\n",
       "      <td>it was amazing</td>\n",
       "      <td>\"Read Harry Potter!\" they said. \"It'll be fun!...</td>\n",
       "      <td>en</td>\n",
       "      <td>177953</td>\n",
       "      <td>16.0</td>\n",
       "      <td>0.380909</td>\n",
       "      <td>5.0</td>\n",
       "    </tr>\n",
       "    <tr>\n",
       "      <th>1</th>\n",
       "      <td>1</td>\n",
       "      <td>737648743</td>\n",
       "      <td>it was amazing</td>\n",
       "      <td>i dont want to talk to anyonedont even look at...</td>\n",
       "      <td>en</td>\n",
       "      <td>177954</td>\n",
       "      <td>16.0</td>\n",
       "      <td>0.440062</td>\n",
       "      <td>5.0</td>\n",
       "    </tr>\n",
       "    <tr>\n",
       "      <th>2</th>\n",
       "      <td>1</td>\n",
       "      <td>683662307</td>\n",
       "      <td>it was amazing</td>\n",
       "      <td>(A) 86% | ExtraordinaryNotes: It dwells on the...</td>\n",
       "      <td>en</td>\n",
       "      <td>177955</td>\n",
       "      <td>1.0</td>\n",
       "      <td>0.373827</td>\n",
       "      <td>5.0</td>\n",
       "    </tr>\n",
       "    <tr>\n",
       "      <th>3</th>\n",
       "      <td>1</td>\n",
       "      <td>137941096</td>\n",
       "      <td>it was amazing</td>\n",
       "      <td>This remains one of my top favorite HP books! ...</td>\n",
       "      <td>en</td>\n",
       "      <td>177956</td>\n",
       "      <td>2.0</td>\n",
       "      <td>0.299372</td>\n",
       "      <td>5.0</td>\n",
       "    </tr>\n",
       "    <tr>\n",
       "      <th>4</th>\n",
       "      <td>1</td>\n",
       "      <td>2856577</td>\n",
       "      <td>it was amazing</td>\n",
       "      <td>I was first introduced to Harry Potter in a Ch...</td>\n",
       "      <td>en</td>\n",
       "      <td>177957</td>\n",
       "      <td>2.0</td>\n",
       "      <td>0.324355</td>\n",
       "      <td>5.0</td>\n",
       "    </tr>\n",
       "  </tbody>\n",
       "</table>\n",
       "</div>"
      ],
      "text/plain": [
       "   book_id  review_id          rating  \\\n",
       "0        1  829021593  it was amazing   \n",
       "1        1  737648743  it was amazing   \n",
       "2        1  683662307  it was amazing   \n",
       "3        1  137941096  it was amazing   \n",
       "4        1    2856577  it was amazing   \n",
       "\n",
       "                                         review_text language      id  \\\n",
       "0  \"Read Harry Potter!\" they said. \"It'll be fun!...       en  177953   \n",
       "1  i dont want to talk to anyonedont even look at...       en  177954   \n",
       "2  (A) 86% | ExtraordinaryNotes: It dwells on the...       en  177955   \n",
       "3  This remains one of my top favorite HP books! ...       en  177956   \n",
       "4  I was first introduced to Harry Potter in a Ch...       en  177957   \n",
       "\n",
       "   primary_topic_id  primary_topic_prob  rating_numeric  \n",
       "0              16.0            0.380909             5.0  \n",
       "1              16.0            0.440062             5.0  \n",
       "2               1.0            0.373827             5.0  \n",
       "3               2.0            0.299372             5.0  \n",
       "4               2.0            0.324355             5.0  "
      ]
     },
     "execution_count": 4,
     "metadata": {},
     "output_type": "execute_result"
    }
   ],
   "source": [
    "# Load the data set:\n",
    "import sqlite3\n",
    "\n",
    "# Read sqlite query results into a pandas DataFrame\n",
    "con = sqlite3.connect(\"/kaggle/input/books-movies-reviews/books_films_reviews.sqlite3\")\n",
    "df = pd.read_sql_query(\"SELECT * from book_reviews order by book_id\", con)\n",
    "df.head()"
   ]
  },
  {
   "cell_type": "code",
   "execution_count": 5,
   "id": "b8ddb4b8",
   "metadata": {
    "execution": {
     "iopub.execute_input": "2022-11-06T21:12:45.935090Z",
     "iopub.status.busy": "2022-11-06T21:12:45.934758Z",
     "iopub.status.idle": "2022-11-06T21:12:45.945052Z",
     "shell.execute_reply": "2022-11-06T21:12:45.944054Z"
    },
    "papermill": {
     "duration": 0.01599,
     "end_time": "2022-11-06T21:12:45.946951",
     "exception": false,
     "start_time": "2022-11-06T21:12:45.930961",
     "status": "completed"
    },
    "tags": []
   },
   "outputs": [],
   "source": [
    "def summarize_doc(doc, num_sentences = 3):\n",
    "    # handle cases where there is no space after a period: e.g. \" end.But \"\n",
    "    doc = re.sub(r'([a-z])\\.([A-Z])', r'\\1. \\2', doc)\n",
    "    word_weights={}\n",
    "    for word in word_tokenize(doc) :  \n",
    "        word = word.lower()\n",
    "        if len(word) > 1 and word not in STOP_WORDS:\n",
    "            if word in word_weights.keys():            \n",
    "                word_weights[word] += 1\n",
    "            else:\n",
    "                word_weights[word] = 1\n",
    "    #print(word_weights)\n",
    "    sentence_weights={}\n",
    "    min_weight = 0\n",
    "    for sent in tokenize.sent_tokenize(doc):\n",
    "        sentence_weight = 0\n",
    "        count = 0\n",
    "        for word in word_tokenize(sent) :  \n",
    "            word = word.lower()\n",
    "            count += 1\n",
    "            if word in word_weights.keys():\n",
    "                sentence_weight += word_weights[word]\n",
    "        #print (sentence_weight, sent)\n",
    "        sentence_weight = sentence_weight * 1.0 / count # avg\n",
    "        if len(sentence_weights) < num_sentences:\n",
    "            sentence_weights[sent] = sentence_weight\n",
    "            min_weight = min(sentence_weights.values())\n",
    "        else:\n",
    "            if sentence_weight > min_weight:\n",
    "                #print(sentence_weight, min_weight)\n",
    "                # switch out current and previous min\n",
    "                for k,v in sentence_weights.items():\n",
    "                    if v == min_weight:\n",
    "                        sentence_weights.pop(k)\n",
    "                        sentence_weights[sent] = sentence_weight\n",
    "                        break\n",
    "                min_weight = min(sentence_weights.values())\n",
    "    print(sentence_weights)\n",
    "    #highest_weights = sorted(sentence_weights.values(),reverse=True)[0:num_sentences]\n",
    "    return ' '.join(sentence_weights.keys())"
   ]
  },
  {
   "cell_type": "code",
   "execution_count": 6,
   "id": "d805201a",
   "metadata": {
    "execution": {
     "iopub.execute_input": "2022-11-06T21:12:45.954344Z",
     "iopub.status.busy": "2022-11-06T21:12:45.954000Z",
     "iopub.status.idle": "2022-11-06T21:12:45.960302Z",
     "shell.execute_reply": "2022-11-06T21:12:45.959482Z"
    },
    "papermill": {
     "duration": 0.012137,
     "end_time": "2022-11-06T21:12:45.962059",
     "exception": false,
     "start_time": "2022-11-06T21:12:45.949922",
     "status": "completed"
    },
    "tags": []
   },
   "outputs": [
    {
     "data": {
      "text/plain": [
       "\"It has taken almost seven months for me to read LotR aloud to my two daughters; we felt a sense of achievement and sadness when we finished tonight. The last time I read the novel was just prior to the first of Peter Jackson's films. I did this consciously fearing that after the films the story would never feel the same again. Reading the book aloud made me appreciate Tolkien's love of landscape, trees, plants, gardens, mountains and natural features of all kind. The extensive use of geographic terms was particularly notable. There are many, many memorable moments in the novel but our favourites, in no particular order: meeting Strider in the Prancing Pony; Sam singing 'The Lay of Gilgalad'; Frodo being wounded on Weathertop by the Black Riders; meeting Gollum; Aragorn, Legolas and Gimli's long journey chasing the orcs who had kidnapped Merry and Pippin; meeting Treebeard; when Gandalf fights the Balrog; and any time Galadriel was present, especially with her mirror. We really liked Faramir but the episode and dialogue with Eowyn was lame. The scouring of the shire seemed more evil than anything else that happened in the novel. This has been the most enjoyable of bedtime treats.\""
      ]
     },
     "execution_count": 6,
     "metadata": {},
     "output_type": "execute_result"
    }
   ],
   "source": [
    "text = df.iloc[990][\"review_text\"]\n",
    "text"
   ]
  },
  {
   "cell_type": "code",
   "execution_count": 7,
   "id": "d31b196a",
   "metadata": {
    "execution": {
     "iopub.execute_input": "2022-11-06T21:12:45.969258Z",
     "iopub.status.busy": "2022-11-06T21:12:45.968972Z",
     "iopub.status.idle": "2022-11-06T21:12:45.989401Z",
     "shell.execute_reply": "2022-11-06T21:12:45.988360Z"
    },
    "papermill": {
     "duration": 0.026473,
     "end_time": "2022-11-06T21:12:45.991495",
     "exception": false,
     "start_time": "2022-11-06T21:12:45.965022",
     "status": "completed"
    },
    "tags": []
   },
   "outputs": [
    {
     "name": "stdout",
     "output_type": "stream",
     "text": [
      "{\"The last time I read the novel was just prior to the first of Peter Jackson's films.\": 0.8947368421052632, \"Reading the book aloud made me appreciate Tolkien's love of landscape, trees, plants, gardens, mountains and natural features of all kind.\": 0.7037037037037037, \"There are many, many memorable moments in the novel but our favourites, in no particular order: meeting Strider in the Prancing Pony; Sam singing 'The Lay of Gilgalad'; Frodo being wounded on Weathertop by the Black Riders; meeting Gollum; Aragorn, Legolas and Gimli's long journey chasing the orcs who had kidnapped Merry and Pippin; meeting Treebeard; when Gandalf fights the Balrog; and any time Galadriel was present, especially with her mirror.\": 0.6744186046511628}\n"
     ]
    },
    {
     "data": {
      "text/plain": [
       "\"The last time I read the novel was just prior to the first of Peter Jackson's films. Reading the book aloud made me appreciate Tolkien's love of landscape, trees, plants, gardens, mountains and natural features of all kind. There are many, many memorable moments in the novel but our favourites, in no particular order: meeting Strider in the Prancing Pony; Sam singing 'The Lay of Gilgalad'; Frodo being wounded on Weathertop by the Black Riders; meeting Gollum; Aragorn, Legolas and Gimli's long journey chasing the orcs who had kidnapped Merry and Pippin; meeting Treebeard; when Gandalf fights the Balrog; and any time Galadriel was present, especially with her mirror.\""
      ]
     },
     "execution_count": 7,
     "metadata": {},
     "output_type": "execute_result"
    }
   ],
   "source": [
    "summarize_doc(text)"
   ]
  },
  {
   "cell_type": "markdown",
   "id": "04e528a1",
   "metadata": {
    "papermill": {
     "duration": 0.002982,
     "end_time": "2022-11-06T21:12:45.997571",
     "exception": false,
     "start_time": "2022-11-06T21:12:45.994589",
     "status": "completed"
    },
    "tags": []
   },
   "source": [
    "This code has a flaw that longer sentences always have more weight than shorter ones.  This may be solved by using tf-idf with a parameter to not reward extra words."
   ]
  },
  {
   "cell_type": "code",
   "execution_count": null,
   "id": "2d894e10",
   "metadata": {
    "papermill": {
     "duration": 0.002781,
     "end_time": "2022-11-06T21:12:46.003469",
     "exception": false,
     "start_time": "2022-11-06T21:12:46.000688",
     "status": "completed"
    },
    "tags": []
   },
   "outputs": [],
   "source": []
  }
 ],
 "metadata": {
  "kernelspec": {
   "display_name": "Python 3",
   "language": "python",
   "name": "python3"
  },
  "language_info": {
   "codemirror_mode": {
    "name": "ipython",
    "version": 3
   },
   "file_extension": ".py",
   "mimetype": "text/x-python",
   "name": "python",
   "nbconvert_exporter": "python",
   "pygments_lexer": "ipython3",
   "version": "3.7.12"
  },
  "papermill": {
   "default_parameters": {},
   "duration": 13.684201,
   "end_time": "2022-11-06T21:12:46.726176",
   "environment_variables": {},
   "exception": null,
   "input_path": "__notebook__.ipynb",
   "output_path": "__notebook__.ipynb",
   "parameters": {},
   "start_time": "2022-11-06T21:12:33.041975",
   "version": "2.3.4"
  }
 },
 "nbformat": 4,
 "nbformat_minor": 5
}
