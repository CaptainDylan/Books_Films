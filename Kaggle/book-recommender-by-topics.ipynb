{
 "cells": [
  {
   "cell_type": "code",
   "execution_count": 1,
   "id": "0868941d",
   "metadata": {
    "_cell_guid": "b1076dfc-b9ad-4769-8c92-a6c4dae69d19",
    "_uuid": "8f2839f25d086af736a60e9eeb907d3b93b6e0e5",
    "execution": {
     "iopub.execute_input": "2022-10-19T02:19:31.030097Z",
     "iopub.status.busy": "2022-10-19T02:19:31.029350Z",
     "iopub.status.idle": "2022-10-19T02:19:31.054793Z",
     "shell.execute_reply": "2022-10-19T02:19:31.052960Z"
    },
    "papermill": {
     "duration": 0.035631,
     "end_time": "2022-10-19T02:19:31.057549",
     "exception": false,
     "start_time": "2022-10-19T02:19:31.021918",
     "status": "completed"
    },
    "tags": []
   },
   "outputs": [
    {
     "name": "stdout",
     "output_type": "stream",
     "text": [
      "/kaggle/input/books-movies-reviews/books_films_reviews.sqlite3\n"
     ]
    }
   ],
   "source": [
    "# This Python 3 environment comes with many helpful analytics libraries installed\n",
    "# It is defined by the kaggle/python Docker image: https://github.com/kaggle/docker-python\n",
    "# For example, here's several helpful packages to load\n",
    "\n",
    "import numpy as np # linear algebra\n",
    "import pandas as pd # data processing, CSV file I/O (e.g. pd.read_csv)\n",
    "\n",
    "# Input data files are available in the read-only \"../input/\" directory\n",
    "# For example, running this (by clicking run or pressing Shift+Enter) will list all files under the input directory\n",
    "\n",
    "import os\n",
    "for dirname, _, filenames in os.walk('/kaggle/input'):\n",
    "    for filename in filenames:\n",
    "        print(os.path.join(dirname, filename))\n",
    "\n",
    "# You can write up to 20GB to the current directory (/kaggle/working/) that gets preserved as output when you create a version using \"Save & Run All\" \n",
    "# You can also write temporary files to /kaggle/temp/, but they won't be saved outside of the current session"
   ]
  },
  {
   "cell_type": "markdown",
   "id": "e3781ab5",
   "metadata": {
    "papermill": {
     "duration": 0.004483,
     "end_time": "2022-10-19T02:19:31.067173",
     "exception": false,
     "start_time": "2022-10-19T02:19:31.062690",
     "status": "completed"
    },
    "tags": []
   },
   "source": [
    "# Books and movies dataset\n",
    "## Overview\n",
    "This notebook serves as an example of how to process the books-movies-reviews dataset.  The dataset contains a set of books and movies made from those books.\n",
    "\n",
    "### The Data\n",
    "The raw data was scraped from Wikipedia, Goodreads, and imdb.  It was cleaned and organized.  A gensim topic model was created from the book corpus and the movie corpus, and topics were assigned to the books and movies.\n",
    "\n",
    "### Sample code\n",
    "In this notebook we read the data for the books and the topics assigned to books.  We take the dataset of books' topics and make a matrix where each row represents the array of topic percentages.  Then we create a distance matrix for each book and run a test of finding similar books"
   ]
  },
  {
   "cell_type": "code",
   "execution_count": 2,
   "id": "f412e261",
   "metadata": {
    "execution": {
     "iopub.execute_input": "2022-10-19T02:19:31.078412Z",
     "iopub.status.busy": "2022-10-19T02:19:31.078030Z",
     "iopub.status.idle": "2022-10-19T02:19:31.163406Z",
     "shell.execute_reply": "2022-10-19T02:19:31.161930Z"
    },
    "papermill": {
     "duration": 0.09425,
     "end_time": "2022-10-19T02:19:31.166194",
     "exception": false,
     "start_time": "2022-10-19T02:19:31.071944",
     "status": "completed"
    },
    "tags": []
   },
   "outputs": [],
   "source": [
    "import sqlite3\n",
    "\n",
    "# Read sqlite query results into a pandas DataFrame\n",
    "con = sqlite3.connect(\"/kaggle/input/books-movies-reviews/books_films_reviews.sqlite3\")\n",
    "df = pd.read_sql_query(\"SELECT * from book_topics_by_book_id order by book_id\", con)"
   ]
  },
  {
   "cell_type": "code",
   "execution_count": 3,
   "id": "3657267f",
   "metadata": {
    "execution": {
     "iopub.execute_input": "2022-10-19T02:19:31.178094Z",
     "iopub.status.busy": "2022-10-19T02:19:31.177707Z",
     "iopub.status.idle": "2022-10-19T02:19:31.193913Z",
     "shell.execute_reply": "2022-10-19T02:19:31.192627Z"
    },
    "papermill": {
     "duration": 0.025169,
     "end_time": "2022-10-19T02:19:31.196636",
     "exception": false,
     "start_time": "2022-10-19T02:19:31.171467",
     "status": "completed"
    },
    "tags": []
   },
   "outputs": [],
   "source": [
    "# Important: Some of the types in the dataset do not match.  In this case we want book_id to always be an integer\n",
    "df[\"book_id\"] = pd.to_numeric(df[\"book_id\"])"
   ]
  },
  {
   "cell_type": "markdown",
   "id": "2b5262c4",
   "metadata": {
    "papermill": {
     "duration": 0.004572,
     "end_time": "2022-10-19T02:19:31.206248",
     "exception": false,
     "start_time": "2022-10-19T02:19:31.201676",
     "status": "completed"
    },
    "tags": []
   },
   "source": [
    "Pandas provides a handy function to create a pivot table, along with parameters to identify a fill value when there is a missing value in the data.  This will create a table with N rows (1 for each book) and 25 columns"
   ]
  },
  {
   "cell_type": "code",
   "execution_count": 4,
   "id": "6721bd0b",
   "metadata": {
    "execution": {
     "iopub.execute_input": "2022-10-19T02:19:31.217448Z",
     "iopub.status.busy": "2022-10-19T02:19:31.217048Z",
     "iopub.status.idle": "2022-10-19T02:19:31.259002Z",
     "shell.execute_reply": "2022-10-19T02:19:31.257617Z"
    },
    "papermill": {
     "duration": 0.050592,
     "end_time": "2022-10-19T02:19:31.261508",
     "exception": false,
     "start_time": "2022-10-19T02:19:31.210916",
     "status": "completed"
    },
    "tags": []
   },
   "outputs": [],
   "source": [
    "book_df = df.pivot_table(values='topicprob', index=['book_id'],\n",
    "                    columns=['topicid'], aggfunc=np.sum, fill_value=0)"
   ]
  },
  {
   "cell_type": "code",
   "execution_count": 5,
   "id": "a3cfb98a",
   "metadata": {
    "execution": {
     "iopub.execute_input": "2022-10-19T02:19:31.272820Z",
     "iopub.status.busy": "2022-10-19T02:19:31.272453Z",
     "iopub.status.idle": "2022-10-19T02:19:31.311056Z",
     "shell.execute_reply": "2022-10-19T02:19:31.309690Z"
    },
    "papermill": {
     "duration": 0.047371,
     "end_time": "2022-10-19T02:19:31.313869",
     "exception": false,
     "start_time": "2022-10-19T02:19:31.266498",
     "status": "completed"
    },
    "tags": []
   },
   "outputs": [
    {
     "data": {
      "text/html": [
       "<div>\n",
       "<style scoped>\n",
       "    .dataframe tbody tr th:only-of-type {\n",
       "        vertical-align: middle;\n",
       "    }\n",
       "\n",
       "    .dataframe tbody tr th {\n",
       "        vertical-align: top;\n",
       "    }\n",
       "\n",
       "    .dataframe thead th {\n",
       "        text-align: right;\n",
       "    }\n",
       "</style>\n",
       "<table border=\"1\" class=\"dataframe\">\n",
       "  <thead>\n",
       "    <tr style=\"text-align: right;\">\n",
       "      <th>topicid</th>\n",
       "      <th>0</th>\n",
       "      <th>1</th>\n",
       "      <th>2</th>\n",
       "      <th>3</th>\n",
       "      <th>4</th>\n",
       "      <th>5</th>\n",
       "      <th>6</th>\n",
       "      <th>7</th>\n",
       "      <th>8</th>\n",
       "      <th>9</th>\n",
       "      <th>...</th>\n",
       "      <th>15</th>\n",
       "      <th>16</th>\n",
       "      <th>17</th>\n",
       "      <th>18</th>\n",
       "      <th>19</th>\n",
       "      <th>20</th>\n",
       "      <th>21</th>\n",
       "      <th>22</th>\n",
       "      <th>23</th>\n",
       "      <th>24</th>\n",
       "    </tr>\n",
       "    <tr>\n",
       "      <th>book_id</th>\n",
       "      <th></th>\n",
       "      <th></th>\n",
       "      <th></th>\n",
       "      <th></th>\n",
       "      <th></th>\n",
       "      <th></th>\n",
       "      <th></th>\n",
       "      <th></th>\n",
       "      <th></th>\n",
       "      <th></th>\n",
       "      <th></th>\n",
       "      <th></th>\n",
       "      <th></th>\n",
       "      <th></th>\n",
       "      <th></th>\n",
       "      <th></th>\n",
       "      <th></th>\n",
       "      <th></th>\n",
       "      <th></th>\n",
       "      <th></th>\n",
       "      <th></th>\n",
       "    </tr>\n",
       "  </thead>\n",
       "  <tbody>\n",
       "    <tr>\n",
       "      <th>1</th>\n",
       "      <td>0.0</td>\n",
       "      <td>0.059232</td>\n",
       "      <td>0.212774</td>\n",
       "      <td>0.014783</td>\n",
       "      <td>0.026242</td>\n",
       "      <td>0.050150</td>\n",
       "      <td>0.0</td>\n",
       "      <td>0.035432</td>\n",
       "      <td>0.021628</td>\n",
       "      <td>0.119860</td>\n",
       "      <td>...</td>\n",
       "      <td>0.000000</td>\n",
       "      <td>0.248951</td>\n",
       "      <td>0.010361</td>\n",
       "      <td>0.0</td>\n",
       "      <td>0.0</td>\n",
       "      <td>0.0</td>\n",
       "      <td>0.062090</td>\n",
       "      <td>0.017426</td>\n",
       "      <td>0.019287</td>\n",
       "      <td>0.017191</td>\n",
       "    </tr>\n",
       "    <tr>\n",
       "      <th>2</th>\n",
       "      <td>0.0</td>\n",
       "      <td>0.043166</td>\n",
       "      <td>0.249520</td>\n",
       "      <td>0.000000</td>\n",
       "      <td>0.020014</td>\n",
       "      <td>0.059316</td>\n",
       "      <td>0.0</td>\n",
       "      <td>0.030890</td>\n",
       "      <td>0.011256</td>\n",
       "      <td>0.103281</td>\n",
       "      <td>...</td>\n",
       "      <td>0.013226</td>\n",
       "      <td>0.248836</td>\n",
       "      <td>0.000000</td>\n",
       "      <td>0.0</td>\n",
       "      <td>0.0</td>\n",
       "      <td>0.0</td>\n",
       "      <td>0.087513</td>\n",
       "      <td>0.012659</td>\n",
       "      <td>0.018427</td>\n",
       "      <td>0.011505</td>\n",
       "    </tr>\n",
       "    <tr>\n",
       "      <th>3</th>\n",
       "      <td>0.0</td>\n",
       "      <td>0.054286</td>\n",
       "      <td>0.269742</td>\n",
       "      <td>0.012997</td>\n",
       "      <td>0.020168</td>\n",
       "      <td>0.107609</td>\n",
       "      <td>0.0</td>\n",
       "      <td>0.047831</td>\n",
       "      <td>0.012898</td>\n",
       "      <td>0.063758</td>\n",
       "      <td>...</td>\n",
       "      <td>0.013647</td>\n",
       "      <td>0.146733</td>\n",
       "      <td>0.010919</td>\n",
       "      <td>0.0</td>\n",
       "      <td>0.0</td>\n",
       "      <td>0.0</td>\n",
       "      <td>0.050250</td>\n",
       "      <td>0.016362</td>\n",
       "      <td>0.022101</td>\n",
       "      <td>0.000000</td>\n",
       "    </tr>\n",
       "    <tr>\n",
       "      <th>5</th>\n",
       "      <td>0.0</td>\n",
       "      <td>0.060975</td>\n",
       "      <td>0.246407</td>\n",
       "      <td>0.010719</td>\n",
       "      <td>0.047789</td>\n",
       "      <td>0.072775</td>\n",
       "      <td>0.0</td>\n",
       "      <td>0.075175</td>\n",
       "      <td>0.027414</td>\n",
       "      <td>0.092118</td>\n",
       "      <td>...</td>\n",
       "      <td>0.015072</td>\n",
       "      <td>0.167944</td>\n",
       "      <td>0.000000</td>\n",
       "      <td>0.0</td>\n",
       "      <td>0.0</td>\n",
       "      <td>0.0</td>\n",
       "      <td>0.032467</td>\n",
       "      <td>0.012964</td>\n",
       "      <td>0.013444</td>\n",
       "      <td>0.011853</td>\n",
       "    </tr>\n",
       "    <tr>\n",
       "      <th>6</th>\n",
       "      <td>0.0</td>\n",
       "      <td>0.045385</td>\n",
       "      <td>0.263036</td>\n",
       "      <td>0.011657</td>\n",
       "      <td>0.031252</td>\n",
       "      <td>0.074425</td>\n",
       "      <td>0.0</td>\n",
       "      <td>0.044410</td>\n",
       "      <td>0.014734</td>\n",
       "      <td>0.071082</td>\n",
       "      <td>...</td>\n",
       "      <td>0.016286</td>\n",
       "      <td>0.230089</td>\n",
       "      <td>0.000000</td>\n",
       "      <td>0.0</td>\n",
       "      <td>0.0</td>\n",
       "      <td>0.0</td>\n",
       "      <td>0.066120</td>\n",
       "      <td>0.013635</td>\n",
       "      <td>0.020587</td>\n",
       "      <td>0.010801</td>\n",
       "    </tr>\n",
       "  </tbody>\n",
       "</table>\n",
       "<p>5 rows × 25 columns</p>\n",
       "</div>"
      ],
      "text/plain": [
       "topicid   0         1         2         3         4         5    6         7   \\\n",
       "book_id                                                                         \n",
       "1        0.0  0.059232  0.212774  0.014783  0.026242  0.050150  0.0  0.035432   \n",
       "2        0.0  0.043166  0.249520  0.000000  0.020014  0.059316  0.0  0.030890   \n",
       "3        0.0  0.054286  0.269742  0.012997  0.020168  0.107609  0.0  0.047831   \n",
       "5        0.0  0.060975  0.246407  0.010719  0.047789  0.072775  0.0  0.075175   \n",
       "6        0.0  0.045385  0.263036  0.011657  0.031252  0.074425  0.0  0.044410   \n",
       "\n",
       "topicid        8         9   ...        15        16        17   18   19   20  \\\n",
       "book_id                      ...                                                \n",
       "1        0.021628  0.119860  ...  0.000000  0.248951  0.010361  0.0  0.0  0.0   \n",
       "2        0.011256  0.103281  ...  0.013226  0.248836  0.000000  0.0  0.0  0.0   \n",
       "3        0.012898  0.063758  ...  0.013647  0.146733  0.010919  0.0  0.0  0.0   \n",
       "5        0.027414  0.092118  ...  0.015072  0.167944  0.000000  0.0  0.0  0.0   \n",
       "6        0.014734  0.071082  ...  0.016286  0.230089  0.000000  0.0  0.0  0.0   \n",
       "\n",
       "topicid        21        22        23        24  \n",
       "book_id                                          \n",
       "1        0.062090  0.017426  0.019287  0.017191  \n",
       "2        0.087513  0.012659  0.018427  0.011505  \n",
       "3        0.050250  0.016362  0.022101  0.000000  \n",
       "5        0.032467  0.012964  0.013444  0.011853  \n",
       "6        0.066120  0.013635  0.020587  0.010801  \n",
       "\n",
       "[5 rows x 25 columns]"
      ]
     },
     "execution_count": 5,
     "metadata": {},
     "output_type": "execute_result"
    }
   ],
   "source": [
    "book_df.head()"
   ]
  },
  {
   "cell_type": "markdown",
   "id": "cd01ae5b",
   "metadata": {
    "papermill": {
     "duration": 0.004895,
     "end_time": "2022-10-19T02:19:31.324234",
     "exception": false,
     "start_time": "2022-10-19T02:19:31.319339",
     "status": "completed"
    },
    "tags": []
   },
   "source": [
    "Turn the data frame into a matrix, then use the metrics module to calculate the distances, treating each row as an \"embedding\" in the topic space."
   ]
  },
  {
   "cell_type": "code",
   "execution_count": 6,
   "id": "191209d0",
   "metadata": {
    "execution": {
     "iopub.execute_input": "2022-10-19T02:19:31.336216Z",
     "iopub.status.busy": "2022-10-19T02:19:31.335815Z",
     "iopub.status.idle": "2022-10-19T02:19:31.341140Z",
     "shell.execute_reply": "2022-10-19T02:19:31.339731Z"
    },
    "papermill": {
     "duration": 0.014497,
     "end_time": "2022-10-19T02:19:31.343840",
     "exception": false,
     "start_time": "2022-10-19T02:19:31.329343",
     "status": "completed"
    },
    "tags": []
   },
   "outputs": [],
   "source": [
    "matrix = np.array(book_df)"
   ]
  },
  {
   "cell_type": "code",
   "execution_count": 7,
   "id": "1ab4be8e",
   "metadata": {
    "execution": {
     "iopub.execute_input": "2022-10-19T02:19:31.355929Z",
     "iopub.status.busy": "2022-10-19T02:19:31.355553Z",
     "iopub.status.idle": "2022-10-19T02:19:32.426052Z",
     "shell.execute_reply": "2022-10-19T02:19:32.425206Z"
    },
    "papermill": {
     "duration": 1.07926,
     "end_time": "2022-10-19T02:19:32.428395",
     "exception": false,
     "start_time": "2022-10-19T02:19:31.349135",
     "status": "completed"
    },
    "tags": []
   },
   "outputs": [],
   "source": [
    "from sklearn.metrics import pairwise_distances\n",
    "from scipy.spatial.distance import cosine\n",
    "similarities = 1-pairwise_distances(matrix, metric=\"cosine\")\n"
   ]
  },
  {
   "cell_type": "markdown",
   "id": "ab9ff405",
   "metadata": {
    "papermill": {
     "duration": 0.007073,
     "end_time": "2022-10-19T02:19:32.441989",
     "exception": false,
     "start_time": "2022-10-19T02:19:32.434916",
     "status": "completed"
    },
    "tags": []
   },
   "source": [
    "Here we retrieve the book details so we can examine the titles of similar books"
   ]
  },
  {
   "cell_type": "code",
   "execution_count": 8,
   "id": "17d70a66",
   "metadata": {
    "execution": {
     "iopub.execute_input": "2022-10-19T02:19:32.456283Z",
     "iopub.status.busy": "2022-10-19T02:19:32.455927Z",
     "iopub.status.idle": "2022-10-19T02:19:32.519989Z",
     "shell.execute_reply": "2022-10-19T02:19:32.519133Z"
    },
    "papermill": {
     "duration": 0.073799,
     "end_time": "2022-10-19T02:19:32.522238",
     "exception": false,
     "start_time": "2022-10-19T02:19:32.448439",
     "status": "completed"
    },
    "tags": []
   },
   "outputs": [
    {
     "data": {
      "text/html": [
       "<div>\n",
       "<style scoped>\n",
       "    .dataframe tbody tr th:only-of-type {\n",
       "        vertical-align: middle;\n",
       "    }\n",
       "\n",
       "    .dataframe tbody tr th {\n",
       "        vertical-align: top;\n",
       "    }\n",
       "\n",
       "    .dataframe thead th {\n",
       "        text-align: right;\n",
       "    }\n",
       "</style>\n",
       "<table border=\"1\" class=\"dataframe\">\n",
       "  <thead>\n",
       "    <tr style=\"text-align: right;\">\n",
       "      <th></th>\n",
       "      <th>book_id</th>\n",
       "      <th>title</th>\n",
       "      <th>year</th>\n",
       "      <th>avg_rating</th>\n",
       "      <th>rating_count</th>\n",
       "      <th>review_count</th>\n",
       "      <th>series</th>\n",
       "      <th>series_num</th>\n",
       "      <th>author</th>\n",
       "      <th>description</th>\n",
       "      <th>length</th>\n",
       "      <th>five_stars</th>\n",
       "      <th>four_stars</th>\n",
       "      <th>three_stars</th>\n",
       "      <th>two_stars</th>\n",
       "      <th>one_star</th>\n",
       "      <th>cover_image</th>\n",
       "      <th>standardized_rating</th>\n",
       "      <th>normalized_rating</th>\n",
       "    </tr>\n",
       "  </thead>\n",
       "  <tbody>\n",
       "    <tr>\n",
       "      <th>0</th>\n",
       "      <td>1.0</td>\n",
       "      <td>Harry Potter and the Half-Blood Prince</td>\n",
       "      <td>2005</td>\n",
       "      <td>4.56</td>\n",
       "      <td>2056192.0</td>\n",
       "      <td>32941.0</td>\n",
       "      <td>Harry Potter</td>\n",
       "      <td>6</td>\n",
       "      <td>J.K. Rowling</td>\n",
       "      <td>When Harry Potter and the Half-Blood Prince op...</td>\n",
       "      <td>652.0</td>\n",
       "      <td>1366613.0</td>\n",
       "      <td>510219.0</td>\n",
       "      <td>147878.0</td>\n",
       "      <td>23181.0</td>\n",
       "      <td>8301.0</td>\n",
       "      <td>https://images.gr-assets.com/books/1361039191l...</td>\n",
       "      <td>2.483514</td>\n",
       "      <td>0.853333</td>\n",
       "    </tr>\n",
       "    <tr>\n",
       "      <th>1</th>\n",
       "      <td>2.0</td>\n",
       "      <td>Harry Potter and the Order of the Phoenix</td>\n",
       "      <td>2003</td>\n",
       "      <td>4.48</td>\n",
       "      <td>2106674.0</td>\n",
       "      <td>34749.0</td>\n",
       "      <td>Harry Potter</td>\n",
       "      <td>5</td>\n",
       "      <td>J.K. Rowling</td>\n",
       "      <td>There is a door at the end of a silent corrido...</td>\n",
       "      <td>870.0</td>\n",
       "      <td>1315756.0</td>\n",
       "      <td>550836.0</td>\n",
       "      <td>195471.0</td>\n",
       "      <td>34007.0</td>\n",
       "      <td>10604.0</td>\n",
       "      <td>https://images.gr-assets.com/books/1546910265l...</td>\n",
       "      <td>2.205437</td>\n",
       "      <td>0.826667</td>\n",
       "    </tr>\n",
       "    <tr>\n",
       "      <th>2</th>\n",
       "      <td>3.0</td>\n",
       "      <td>Harry Potter and the Sorcerer's Stone</td>\n",
       "      <td>1997</td>\n",
       "      <td>4.46</td>\n",
       "      <td>5799402.0</td>\n",
       "      <td>93027.0</td>\n",
       "      <td>Harry Potter</td>\n",
       "      <td>1</td>\n",
       "      <td>J.K. Rowling</td>\n",
       "      <td>Harry Potter's life is miserable. His parents ...</td>\n",
       "      <td>320.0</td>\n",
       "      <td>3719830.0</td>\n",
       "      <td>1353816.0</td>\n",
       "      <td>516455.0</td>\n",
       "      <td>117095.0</td>\n",
       "      <td>92206.0</td>\n",
       "      <td>https://images.gr-assets.com/books/1474154022l...</td>\n",
       "      <td>2.135918</td>\n",
       "      <td>0.820000</td>\n",
       "    </tr>\n",
       "    <tr>\n",
       "      <th>3</th>\n",
       "      <td>5.0</td>\n",
       "      <td>Harry Potter and the Prisoner of Azkaban</td>\n",
       "      <td>1999</td>\n",
       "      <td>4.55</td>\n",
       "      <td>2298966.0</td>\n",
       "      <td>44970.0</td>\n",
       "      <td>Harry Potter</td>\n",
       "      <td>3</td>\n",
       "      <td>J.K. Rowling</td>\n",
       "      <td>Harry Potter's third year at Hogwarts is full ...</td>\n",
       "      <td>435.0</td>\n",
       "      <td>1516987.0</td>\n",
       "      <td>571921.0</td>\n",
       "      <td>179958.0</td>\n",
       "      <td>22200.0</td>\n",
       "      <td>7900.0</td>\n",
       "      <td>https://images.gr-assets.com/books/1499277281l...</td>\n",
       "      <td>2.448755</td>\n",
       "      <td>0.850000</td>\n",
       "    </tr>\n",
       "    <tr>\n",
       "      <th>4</th>\n",
       "      <td>6.0</td>\n",
       "      <td>Harry Potter and the Goblet of Fire</td>\n",
       "      <td>2000</td>\n",
       "      <td>4.55</td>\n",
       "      <td>2151870.0</td>\n",
       "      <td>37860.0</td>\n",
       "      <td>Harry Potter</td>\n",
       "      <td>4</td>\n",
       "      <td>J.K. Rowling</td>\n",
       "      <td>Harry Potter is midway through his training as...</td>\n",
       "      <td>734.0</td>\n",
       "      <td>1406331.0</td>\n",
       "      <td>551538.0</td>\n",
       "      <td>164462.0</td>\n",
       "      <td>21925.0</td>\n",
       "      <td>7614.0</td>\n",
       "      <td>https://images.gr-assets.com/books/1361482611l...</td>\n",
       "      <td>2.448755</td>\n",
       "      <td>0.850000</td>\n",
       "    </tr>\n",
       "  </tbody>\n",
       "</table>\n",
       "</div>"
      ],
      "text/plain": [
       "   book_id                                      title  year  avg_rating  \\\n",
       "0      1.0     Harry Potter and the Half-Blood Prince  2005        4.56   \n",
       "1      2.0  Harry Potter and the Order of the Phoenix  2003        4.48   \n",
       "2      3.0      Harry Potter and the Sorcerer's Stone  1997        4.46   \n",
       "3      5.0   Harry Potter and the Prisoner of Azkaban  1999        4.55   \n",
       "4      6.0        Harry Potter and the Goblet of Fire  2000        4.55   \n",
       "\n",
       "   rating_count  review_count        series series_num        author  \\\n",
       "0     2056192.0       32941.0  Harry Potter          6  J.K. Rowling   \n",
       "1     2106674.0       34749.0  Harry Potter          5  J.K. Rowling   \n",
       "2     5799402.0       93027.0  Harry Potter          1  J.K. Rowling   \n",
       "3     2298966.0       44970.0  Harry Potter          3  J.K. Rowling   \n",
       "4     2151870.0       37860.0  Harry Potter          4  J.K. Rowling   \n",
       "\n",
       "                                         description  length  five_stars  \\\n",
       "0  When Harry Potter and the Half-Blood Prince op...   652.0   1366613.0   \n",
       "1  There is a door at the end of a silent corrido...   870.0   1315756.0   \n",
       "2  Harry Potter's life is miserable. His parents ...   320.0   3719830.0   \n",
       "3  Harry Potter's third year at Hogwarts is full ...   435.0   1516987.0   \n",
       "4  Harry Potter is midway through his training as...   734.0   1406331.0   \n",
       "\n",
       "   four_stars  three_stars  two_stars  one_star  \\\n",
       "0    510219.0     147878.0    23181.0    8301.0   \n",
       "1    550836.0     195471.0    34007.0   10604.0   \n",
       "2   1353816.0     516455.0   117095.0   92206.0   \n",
       "3    571921.0     179958.0    22200.0    7900.0   \n",
       "4    551538.0     164462.0    21925.0    7614.0   \n",
       "\n",
       "                                         cover_image  standardized_rating  \\\n",
       "0  https://images.gr-assets.com/books/1361039191l...             2.483514   \n",
       "1  https://images.gr-assets.com/books/1546910265l...             2.205437   \n",
       "2  https://images.gr-assets.com/books/1474154022l...             2.135918   \n",
       "3  https://images.gr-assets.com/books/1499277281l...             2.448755   \n",
       "4  https://images.gr-assets.com/books/1361482611l...             2.448755   \n",
       "\n",
       "   normalized_rating  \n",
       "0           0.853333  \n",
       "1           0.826667  \n",
       "2           0.820000  \n",
       "3           0.850000  \n",
       "4           0.850000  "
      ]
     },
     "execution_count": 8,
     "metadata": {},
     "output_type": "execute_result"
    }
   ],
   "source": [
    "df_bookinfo = pd.read_sql_query(\"SELECT * from books order by book_id\", con)\n",
    "df_bookinfo.head()"
   ]
  },
  {
   "cell_type": "markdown",
   "id": "66fb9bdf",
   "metadata": {
    "papermill": {
     "duration": 0.006255,
     "end_time": "2022-10-19T02:19:32.535317",
     "exception": false,
     "start_time": "2022-10-19T02:19:32.529062",
     "status": "completed"
    },
    "tags": []
   },
   "source": [
    "Use argsort to get the index of the similarity index of the first row (*Harry Potter and the Half-Blood Prince*).  The matches array will have the similarity values from lowest to highest."
   ]
  },
  {
   "cell_type": "code",
   "execution_count": 9,
   "id": "2eec793f",
   "metadata": {
    "execution": {
     "iopub.execute_input": "2022-10-19T02:19:32.547606Z",
     "iopub.status.busy": "2022-10-19T02:19:32.547260Z",
     "iopub.status.idle": "2022-10-19T02:19:32.555059Z",
     "shell.execute_reply": "2022-10-19T02:19:32.553899Z"
    },
    "papermill": {
     "duration": 0.016198,
     "end_time": "2022-10-19T02:19:32.557063",
     "exception": false,
     "start_time": "2022-10-19T02:19:32.540865",
     "status": "completed"
    },
    "tags": []
   },
   "outputs": [
    {
     "data": {
      "text/plain": [
       "array([195, 344, 115,   3, 217, 568, 364,   4,   1,   0])"
      ]
     },
     "execution_count": 9,
     "metadata": {},
     "output_type": "execute_result"
    }
   ],
   "source": [
    "matches = np.argsort(similarities[0])\n",
    "matches[-10:]"
   ]
  },
  {
   "cell_type": "markdown",
   "id": "0c883569",
   "metadata": {
    "papermill": {
     "duration": 0.005151,
     "end_time": "2022-10-19T02:19:32.567833",
     "exception": false,
     "start_time": "2022-10-19T02:19:32.562682",
     "status": "completed"
    },
    "tags": []
   },
   "source": [
    "Here are the similaritiy values."
   ]
  },
  {
   "cell_type": "code",
   "execution_count": 10,
   "id": "3ffeb7fc",
   "metadata": {
    "execution": {
     "iopub.execute_input": "2022-10-19T02:19:32.580659Z",
     "iopub.status.busy": "2022-10-19T02:19:32.580122Z",
     "iopub.status.idle": "2022-10-19T02:19:32.586221Z",
     "shell.execute_reply": "2022-10-19T02:19:32.585552Z"
    },
    "papermill": {
     "duration": 0.014801,
     "end_time": "2022-10-19T02:19:32.588017",
     "exception": false,
     "start_time": "2022-10-19T02:19:32.573216",
     "status": "completed"
    },
    "tags": []
   },
   "outputs": [
    {
     "data": {
      "text/plain": [
       "array([0.9340955 , 0.93617758, 0.95043715, 0.95256799, 0.96938585,\n",
       "       0.9742625 , 0.97508604, 0.97584823, 0.98876016, 1.        ])"
      ]
     },
     "execution_count": 10,
     "metadata": {},
     "output_type": "execute_result"
    }
   ],
   "source": [
    "similarities[0][matches[-10:]]"
   ]
  },
  {
   "cell_type": "markdown",
   "id": "efcf6f3d",
   "metadata": {
    "papermill": {
     "duration": 0.00514,
     "end_time": "2022-10-19T02:19:32.598816",
     "exception": false,
     "start_time": "2022-10-19T02:19:32.593676",
     "status": "completed"
    },
    "tags": []
   },
   "source": [
    "We use the index values of the matches to get the related book in the book data frame index:"
   ]
  },
  {
   "cell_type": "code",
   "execution_count": 11,
   "id": "dbeeffd0",
   "metadata": {
    "execution": {
     "iopub.execute_input": "2022-10-19T02:19:32.611690Z",
     "iopub.status.busy": "2022-10-19T02:19:32.610880Z",
     "iopub.status.idle": "2022-10-19T02:19:32.622691Z",
     "shell.execute_reply": "2022-10-19T02:19:32.621825Z"
    },
    "papermill": {
     "duration": 0.020382,
     "end_time": "2022-10-19T02:19:32.624527",
     "exception": false,
     "start_time": "2022-10-19T02:19:32.604145",
     "status": "completed"
    },
    "tags": []
   },
   "outputs": [
    {
     "data": {
      "text/html": [
       "<div>\n",
       "<style scoped>\n",
       "    .dataframe tbody tr th:only-of-type {\n",
       "        vertical-align: middle;\n",
       "    }\n",
       "\n",
       "    .dataframe tbody tr th {\n",
       "        vertical-align: top;\n",
       "    }\n",
       "\n",
       "    .dataframe thead th {\n",
       "        text-align: right;\n",
       "    }\n",
       "</style>\n",
       "<table border=\"1\" class=\"dataframe\">\n",
       "  <thead>\n",
       "    <tr style=\"text-align: right;\">\n",
       "      <th></th>\n",
       "      <th>title</th>\n",
       "      <th>year</th>\n",
       "      <th>author</th>\n",
       "    </tr>\n",
       "  </thead>\n",
       "  <tbody>\n",
       "    <tr>\n",
       "      <th>195</th>\n",
       "      <td>Twilight</td>\n",
       "      <td>2008</td>\n",
       "      <td>Stephenie Meyer</td>\n",
       "    </tr>\n",
       "    <tr>\n",
       "      <th>344</th>\n",
       "      <td>Prince Caspian</td>\n",
       "      <td>1955</td>\n",
       "      <td>C.S. Lewis</td>\n",
       "    </tr>\n",
       "    <tr>\n",
       "      <th>115</th>\n",
       "      <td>Harry Potter and the Chamber of Secrets</td>\n",
       "      <td>1998</td>\n",
       "      <td>J.K. Rowling</td>\n",
       "    </tr>\n",
       "    <tr>\n",
       "      <th>3</th>\n",
       "      <td>Harry Potter and the Prisoner of Azkaban</td>\n",
       "      <td>1999</td>\n",
       "      <td>J.K. Rowling</td>\n",
       "    </tr>\n",
       "    <tr>\n",
       "      <th>217</th>\n",
       "      <td>New Moon</td>\n",
       "      <td>2008</td>\n",
       "      <td>Stephenie Meyer</td>\n",
       "    </tr>\n",
       "    <tr>\n",
       "      <th>568</th>\n",
       "      <td>The Unknown Soldier</td>\n",
       "      <td>1954</td>\n",
       "      <td>V</td>\n",
       "    </tr>\n",
       "    <tr>\n",
       "      <th>364</th>\n",
       "      <td>Harry Potter and the Deathly Hallows</td>\n",
       "      <td>2007</td>\n",
       "      <td>J.K. Rowling</td>\n",
       "    </tr>\n",
       "    <tr>\n",
       "      <th>4</th>\n",
       "      <td>Harry Potter and the Goblet of Fire</td>\n",
       "      <td>2000</td>\n",
       "      <td>J.K. Rowling</td>\n",
       "    </tr>\n",
       "    <tr>\n",
       "      <th>1</th>\n",
       "      <td>Harry Potter and the Order of the Phoenix</td>\n",
       "      <td>2003</td>\n",
       "      <td>J.K. Rowling</td>\n",
       "    </tr>\n",
       "    <tr>\n",
       "      <th>0</th>\n",
       "      <td>Harry Potter and the Half-Blood Prince</td>\n",
       "      <td>2005</td>\n",
       "      <td>J.K. Rowling</td>\n",
       "    </tr>\n",
       "  </tbody>\n",
       "</table>\n",
       "</div>"
      ],
      "text/plain": [
       "                                         title  year           author\n",
       "195                                   Twilight  2008  Stephenie Meyer\n",
       "344                             Prince Caspian  1955       C.S. Lewis\n",
       "115    Harry Potter and the Chamber of Secrets  1998     J.K. Rowling\n",
       "3     Harry Potter and the Prisoner of Azkaban  1999     J.K. Rowling\n",
       "217                                   New Moon  2008  Stephenie Meyer\n",
       "568                        The Unknown Soldier  1954                V\n",
       "364       Harry Potter and the Deathly Hallows  2007     J.K. Rowling\n",
       "4          Harry Potter and the Goblet of Fire  2000     J.K. Rowling\n",
       "1    Harry Potter and the Order of the Phoenix  2003     J.K. Rowling\n",
       "0       Harry Potter and the Half-Blood Prince  2005     J.K. Rowling"
      ]
     },
     "execution_count": 11,
     "metadata": {},
     "output_type": "execute_result"
    }
   ],
   "source": [
    "df_bookinfo.iloc[matches[-10:]][[\"title\",\"year\",\"author\"]]"
   ]
  },
  {
   "cell_type": "markdown",
   "id": "bce3140a",
   "metadata": {
    "papermill": {
     "duration": 0.005458,
     "end_time": "2022-10-19T02:19:32.636152",
     "exception": false,
     "start_time": "2022-10-19T02:19:32.630694",
     "status": "completed"
    },
    "tags": []
   },
   "source": [
    "Our experiment is a success.  The process revealed books similar to *Harry Potter and the Half-Blood Prince* such as other Harry Potter books!\n",
    "\n",
    "Let's try one more example such as James Bond books."
   ]
  },
  {
   "cell_type": "code",
   "execution_count": 12,
   "id": "28f1adae",
   "metadata": {
    "execution": {
     "iopub.execute_input": "2022-10-19T02:19:32.649168Z",
     "iopub.status.busy": "2022-10-19T02:19:32.648799Z",
     "iopub.status.idle": "2022-10-19T02:19:32.657932Z",
     "shell.execute_reply": "2022-10-19T02:19:32.656098Z"
    },
    "papermill": {
     "duration": 0.018818,
     "end_time": "2022-10-19T02:19:32.660609",
     "exception": false,
     "start_time": "2022-10-19T02:19:32.641791",
     "status": "completed"
    },
    "tags": []
   },
   "outputs": [
    {
     "data": {
      "text/plain": [
       "title       Moonraker\n",
       "year             1955\n",
       "author    Ian Fleming\n",
       "Name: 38, dtype: object"
      ]
     },
     "execution_count": 12,
     "metadata": {},
     "output_type": "execute_result"
    }
   ],
   "source": [
    "df_bookinfo.iloc[38][[\"title\",\"year\",\"author\"]]"
   ]
  },
  {
   "cell_type": "code",
   "execution_count": 13,
   "id": "4ce44f03",
   "metadata": {
    "execution": {
     "iopub.execute_input": "2022-10-19T02:19:32.674837Z",
     "iopub.status.busy": "2022-10-19T02:19:32.674055Z",
     "iopub.status.idle": "2022-10-19T02:19:32.684562Z",
     "shell.execute_reply": "2022-10-19T02:19:32.683900Z"
    },
    "papermill": {
     "duration": 0.019602,
     "end_time": "2022-10-19T02:19:32.686270",
     "exception": false,
     "start_time": "2022-10-19T02:19:32.666668",
     "status": "completed"
    },
    "tags": []
   },
   "outputs": [
    {
     "data": {
      "text/html": [
       "<div>\n",
       "<style scoped>\n",
       "    .dataframe tbody tr th:only-of-type {\n",
       "        vertical-align: middle;\n",
       "    }\n",
       "\n",
       "    .dataframe tbody tr th {\n",
       "        vertical-align: top;\n",
       "    }\n",
       "\n",
       "    .dataframe thead th {\n",
       "        text-align: right;\n",
       "    }\n",
       "</style>\n",
       "<table border=\"1\" class=\"dataframe\">\n",
       "  <thead>\n",
       "    <tr style=\"text-align: right;\">\n",
       "      <th></th>\n",
       "      <th>title</th>\n",
       "      <th>year</th>\n",
       "      <th>author</th>\n",
       "    </tr>\n",
       "  </thead>\n",
       "  <tbody>\n",
       "    <tr>\n",
       "      <th>169</th>\n",
       "      <td>Clear and Present Danger</td>\n",
       "      <td>1989</td>\n",
       "      <td>Tom Clancy</td>\n",
       "    </tr>\n",
       "    <tr>\n",
       "      <th>45</th>\n",
       "      <td>From Russia With Love</td>\n",
       "      <td>1957</td>\n",
       "      <td>Ian Fleming</td>\n",
       "    </tr>\n",
       "    <tr>\n",
       "      <th>1248</th>\n",
       "      <td>The Bishop's Wife</td>\n",
       "      <td>1928</td>\n",
       "      <td>Robert Nathan</td>\n",
       "    </tr>\n",
       "    <tr>\n",
       "      <th>43</th>\n",
       "      <td>On Her Majesty's Secret Service</td>\n",
       "      <td>1963</td>\n",
       "      <td>Ian Fleming</td>\n",
       "    </tr>\n",
       "    <tr>\n",
       "      <th>134</th>\n",
       "      <td>The Hunt for Red October</td>\n",
       "      <td>1984</td>\n",
       "      <td>Tom Clancy</td>\n",
       "    </tr>\n",
       "    <tr>\n",
       "      <th>41</th>\n",
       "      <td>Diamonds Are Forever</td>\n",
       "      <td>1956</td>\n",
       "      <td>Ian Fleming</td>\n",
       "    </tr>\n",
       "    <tr>\n",
       "      <th>410</th>\n",
       "      <td>Three-Ten to Yuma and Other Stories</td>\n",
       "      <td>1953</td>\n",
       "      <td>Elmore Leonard</td>\n",
       "    </tr>\n",
       "    <tr>\n",
       "      <th>42</th>\n",
       "      <td>You Only Live Twice</td>\n",
       "      <td>1964</td>\n",
       "      <td>Ian Fleming</td>\n",
       "    </tr>\n",
       "    <tr>\n",
       "      <th>411</th>\n",
       "      <td>The Man With the Golden Gun</td>\n",
       "      <td>1965</td>\n",
       "      <td>Ian Fleming</td>\n",
       "    </tr>\n",
       "    <tr>\n",
       "      <th>38</th>\n",
       "      <td>Moonraker</td>\n",
       "      <td>1955</td>\n",
       "      <td>Ian Fleming</td>\n",
       "    </tr>\n",
       "  </tbody>\n",
       "</table>\n",
       "</div>"
      ],
      "text/plain": [
       "                                    title  year          author\n",
       "169              Clear and Present Danger  1989      Tom Clancy\n",
       "45                  From Russia With Love  1957     Ian Fleming\n",
       "1248                    The Bishop's Wife  1928   Robert Nathan\n",
       "43        On Her Majesty's Secret Service  1963     Ian Fleming\n",
       "134              The Hunt for Red October  1984      Tom Clancy\n",
       "41                   Diamonds Are Forever  1956     Ian Fleming\n",
       "410   Three-Ten to Yuma and Other Stories  1953  Elmore Leonard\n",
       "42                    You Only Live Twice  1964     Ian Fleming\n",
       "411           The Man With the Golden Gun  1965     Ian Fleming\n",
       "38                              Moonraker  1955     Ian Fleming"
      ]
     },
     "execution_count": 13,
     "metadata": {},
     "output_type": "execute_result"
    }
   ],
   "source": [
    "matches = np.argsort(similarities[38])\n",
    "df_bookinfo.iloc[matches[-10:]][[\"title\",\"year\",\"author\"]]"
   ]
  },
  {
   "cell_type": "markdown",
   "id": "6d9c6aee",
   "metadata": {
    "papermill": {
     "duration": 0.005717,
     "end_time": "2022-10-19T02:19:32.698220",
     "exception": false,
     "start_time": "2022-10-19T02:19:32.692503",
     "status": "completed"
    },
    "tags": []
   },
   "source": [
    "Again the process yielded close matches.  This shows that the topics and their assignments are useful enough to provide matches to books with a similar topic profiles."
   ]
  },
  {
   "cell_type": "code",
   "execution_count": null,
   "id": "814cb997",
   "metadata": {
    "papermill": {
     "duration": 0.005673,
     "end_time": "2022-10-19T02:19:32.709859",
     "exception": false,
     "start_time": "2022-10-19T02:19:32.704186",
     "status": "completed"
    },
    "tags": []
   },
   "outputs": [],
   "source": []
  }
 ],
 "metadata": {
  "kernelspec": {
   "display_name": "Python 3",
   "language": "python",
   "name": "python3"
  },
  "language_info": {
   "codemirror_mode": {
    "name": "ipython",
    "version": 3
   },
   "file_extension": ".py",
   "mimetype": "text/x-python",
   "name": "python",
   "nbconvert_exporter": "python",
   "pygments_lexer": "ipython3",
   "version": "3.7.12"
  },
  "papermill": {
   "default_parameters": {},
   "duration": 10.451506,
   "end_time": "2022-10-19T02:19:33.439955",
   "environment_variables": {},
   "exception": null,
   "input_path": "__notebook__.ipynb",
   "output_path": "__notebook__.ipynb",
   "parameters": {},
   "start_time": "2022-10-19T02:19:22.988449",
   "version": "2.3.4"
  }
 },
 "nbformat": 4,
 "nbformat_minor": 5
}
