{
 "cells": [
  {
   "cell_type": "code",
   "execution_count": 1,
   "metadata": {},
   "outputs": [],
   "source": [
    "import pandas as pd\n",
    "import numpy as np"
   ]
  },
  {
   "cell_type": "code",
   "execution_count": 2,
   "metadata": {},
   "outputs": [],
   "source": [
    "df = pd.read_csv(\"imdb-ratings.tsv\",sep='\\t')"
   ]
  },
  {
   "cell_type": "code",
   "execution_count": 3,
   "metadata": {},
   "outputs": [
    {
     "data": {
      "text/html": [
       "<div>\n",
       "<style scoped>\n",
       "    .dataframe tbody tr th:only-of-type {\n",
       "        vertical-align: middle;\n",
       "    }\n",
       "\n",
       "    .dataframe tbody tr th {\n",
       "        vertical-align: top;\n",
       "    }\n",
       "\n",
       "    .dataframe thead th {\n",
       "        text-align: right;\n",
       "    }\n",
       "</style>\n",
       "<table border=\"1\" class=\"dataframe\">\n",
       "  <thead>\n",
       "    <tr style=\"text-align: right;\">\n",
       "      <th></th>\n",
       "      <th>tconst</th>\n",
       "      <th>averageRating</th>\n",
       "      <th>numVotes</th>\n",
       "    </tr>\n",
       "  </thead>\n",
       "  <tbody>\n",
       "    <tr>\n",
       "      <th>0</th>\n",
       "      <td>tt0000001</td>\n",
       "      <td>5.8</td>\n",
       "      <td>1465</td>\n",
       "    </tr>\n",
       "    <tr>\n",
       "      <th>1</th>\n",
       "      <td>tt0000002</td>\n",
       "      <td>6.4</td>\n",
       "      <td>176</td>\n",
       "    </tr>\n",
       "    <tr>\n",
       "      <th>2</th>\n",
       "      <td>tt0000003</td>\n",
       "      <td>6.6</td>\n",
       "      <td>1089</td>\n",
       "    </tr>\n",
       "    <tr>\n",
       "      <th>3</th>\n",
       "      <td>tt0000004</td>\n",
       "      <td>6.5</td>\n",
       "      <td>105</td>\n",
       "    </tr>\n",
       "    <tr>\n",
       "      <th>4</th>\n",
       "      <td>tt0000005</td>\n",
       "      <td>6.2</td>\n",
       "      <td>1795</td>\n",
       "    </tr>\n",
       "  </tbody>\n",
       "</table>\n",
       "</div>"
      ],
      "text/plain": [
       "      tconst  averageRating  numVotes\n",
       "0  tt0000001            5.8      1465\n",
       "1  tt0000002            6.4       176\n",
       "2  tt0000003            6.6      1089\n",
       "3  tt0000004            6.5       105\n",
       "4  tt0000005            6.2      1795"
      ]
     },
     "execution_count": 3,
     "metadata": {},
     "output_type": "execute_result"
    }
   ],
   "source": [
    "df.head()"
   ]
  },
  {
   "cell_type": "code",
   "execution_count": 4,
   "metadata": {},
   "outputs": [
    {
     "data": {
      "text/html": [
       "<div>\n",
       "<style scoped>\n",
       "    .dataframe tbody tr th:only-of-type {\n",
       "        vertical-align: middle;\n",
       "    }\n",
       "\n",
       "    .dataframe tbody tr th {\n",
       "        vertical-align: top;\n",
       "    }\n",
       "\n",
       "    .dataframe thead th {\n",
       "        text-align: right;\n",
       "    }\n",
       "</style>\n",
       "<table border=\"1\" class=\"dataframe\">\n",
       "  <thead>\n",
       "    <tr style=\"text-align: right;\">\n",
       "      <th></th>\n",
       "      <th>tmdbid</th>\n",
       "      <th>imdbid</th>\n",
       "    </tr>\n",
       "  </thead>\n",
       "  <tbody>\n",
       "    <tr>\n",
       "      <th>0</th>\n",
       "      <td>2753</td>\n",
       "      <td>tt0090576</td>\n",
       "    </tr>\n",
       "    <tr>\n",
       "      <th>1</th>\n",
       "      <td>245</td>\n",
       "      <td>tt0276751</td>\n",
       "    </tr>\n",
       "    <tr>\n",
       "      <th>2</th>\n",
       "      <td>2755</td>\n",
       "      <td>tt0257360</td>\n",
       "    </tr>\n",
       "    <tr>\n",
       "      <th>3</th>\n",
       "      <td>66</td>\n",
       "      <td>tt0118548</td>\n",
       "    </tr>\n",
       "    <tr>\n",
       "      <th>4</th>\n",
       "      <td>31052</td>\n",
       "      <td>tt0094606</td>\n",
       "    </tr>\n",
       "  </tbody>\n",
       "</table>\n",
       "</div>"
      ],
      "text/plain": [
       "   tmdbid     imdbid\n",
       "0    2753  tt0090576\n",
       "1     245  tt0276751\n",
       "2    2755  tt0257360\n",
       "3      66  tt0118548\n",
       "4   31052  tt0094606"
      ]
     },
     "execution_count": 4,
     "metadata": {},
     "output_type": "execute_result"
    }
   ],
   "source": [
    "imdb_list = pd.read_csv(\"tmdb_to_imdb_id_mapping.csv\")\n",
    "imdb_list.drop(columns=['Unnamed: 0'], inplace=True)\n",
    "imdb_list.head()"
   ]
  },
  {
   "cell_type": "code",
   "execution_count": 5,
   "metadata": {},
   "outputs": [],
   "source": [
    "imdb_list = imdb_list.merge(df, left_on=\"imdbid\", right_on=\"tconst\", how=\"left\")"
   ]
  },
  {
   "cell_type": "code",
   "execution_count": 6,
   "metadata": {},
   "outputs": [
    {
     "data": {
      "text/html": [
       "<div>\n",
       "<style scoped>\n",
       "    .dataframe tbody tr th:only-of-type {\n",
       "        vertical-align: middle;\n",
       "    }\n",
       "\n",
       "    .dataframe tbody tr th {\n",
       "        vertical-align: top;\n",
       "    }\n",
       "\n",
       "    .dataframe thead th {\n",
       "        text-align: right;\n",
       "    }\n",
       "</style>\n",
       "<table border=\"1\" class=\"dataframe\">\n",
       "  <thead>\n",
       "    <tr style=\"text-align: right;\">\n",
       "      <th></th>\n",
       "      <th>tmdbid</th>\n",
       "      <th>imdbid</th>\n",
       "      <th>tconst</th>\n",
       "      <th>averageRating</th>\n",
       "      <th>numVotes</th>\n",
       "    </tr>\n",
       "  </thead>\n",
       "  <tbody>\n",
       "    <tr>\n",
       "      <th>0</th>\n",
       "      <td>2753</td>\n",
       "      <td>tt0090576</td>\n",
       "      <td>tt0090576</td>\n",
       "      <td>7.3</td>\n",
       "      <td>2823.0</td>\n",
       "    </tr>\n",
       "    <tr>\n",
       "      <th>1</th>\n",
       "      <td>245</td>\n",
       "      <td>tt0276751</td>\n",
       "      <td>tt0276751</td>\n",
       "      <td>7.1</td>\n",
       "      <td>158912.0</td>\n",
       "    </tr>\n",
       "    <tr>\n",
       "      <th>2</th>\n",
       "      <td>2755</td>\n",
       "      <td>tt0257360</td>\n",
       "      <td>tt0257360</td>\n",
       "      <td>7.2</td>\n",
       "      <td>116379.0</td>\n",
       "    </tr>\n",
       "    <tr>\n",
       "      <th>3</th>\n",
       "      <td>66</td>\n",
       "      <td>tt0118548</td>\n",
       "      <td>tt0118548</td>\n",
       "      <td>6.7</td>\n",
       "      <td>45519.0</td>\n",
       "    </tr>\n",
       "    <tr>\n",
       "      <th>4</th>\n",
       "      <td>31052</td>\n",
       "      <td>tt0094606</td>\n",
       "      <td>tt0094606</td>\n",
       "      <td>6.8</td>\n",
       "      <td>13738.0</td>\n",
       "    </tr>\n",
       "  </tbody>\n",
       "</table>\n",
       "</div>"
      ],
      "text/plain": [
       "   tmdbid     imdbid     tconst  averageRating  numVotes\n",
       "0    2753  tt0090576  tt0090576            7.3    2823.0\n",
       "1     245  tt0276751  tt0276751            7.1  158912.0\n",
       "2    2755  tt0257360  tt0257360            7.2  116379.0\n",
       "3      66  tt0118548  tt0118548            6.7   45519.0\n",
       "4   31052  tt0094606  tt0094606            6.8   13738.0"
      ]
     },
     "execution_count": 6,
     "metadata": {},
     "output_type": "execute_result"
    }
   ],
   "source": [
    "imdb_list.head()"
   ]
  },
  {
   "cell_type": "code",
   "execution_count": 7,
   "metadata": {},
   "outputs": [
    {
     "data": {
      "text/plain": [
       "0         2823.0\n",
       "1       158912.0\n",
       "2       116379.0\n",
       "3        45519.0\n",
       "4        13738.0\n",
       "5         4239.0\n",
       "6         8703.0\n",
       "7        37334.0\n",
       "8          677.0\n",
       "9          329.0\n",
       "10         579.0\n",
       "11       11456.0\n",
       "12         394.0\n",
       "13          68.0\n",
       "14          61.0\n",
       "15         991.0\n",
       "16          45.0\n",
       "17        1200.0\n",
       "18         486.0\n",
       "19         142.0\n",
       "20          47.0\n",
       "21        2262.0\n",
       "22         119.0\n",
       "23        7133.0\n",
       "24        8859.0\n",
       "25      113314.0\n",
       "26          10.0\n",
       "27         547.0\n",
       "28         197.0\n",
       "29          15.0\n",
       "          ...   \n",
       "2228       307.0\n",
       "2229     22079.0\n",
       "2230       263.0\n",
       "2231        77.0\n",
       "2232      2957.0\n",
       "2233         NaN\n",
       "2234     23199.0\n",
       "2235      1521.0\n",
       "2236      2933.0\n",
       "2237      2007.0\n",
       "2238      2901.0\n",
       "2239     14671.0\n",
       "2240      1562.0\n",
       "2241       953.0\n",
       "2242     84244.0\n",
       "2243      2623.0\n",
       "2244     17714.0\n",
       "2245      3742.0\n",
       "2246       816.0\n",
       "2247     21904.0\n",
       "2248       655.0\n",
       "2249     86740.0\n",
       "2250        85.0\n",
       "2251        84.0\n",
       "2252     12544.0\n",
       "2253       105.0\n",
       "2254      2547.0\n",
       "2255       218.0\n",
       "2256      4667.0\n",
       "2257     18389.0\n",
       "Name: numVotes, Length: 2258, dtype: float64"
      ]
     },
     "execution_count": 7,
     "metadata": {},
     "output_type": "execute_result"
    }
   ],
   "source": [
    "imdb_list['numVotes'].apply(lambda x: round(x,0))"
   ]
  },
  {
   "cell_type": "code",
   "execution_count": null,
   "metadata": {},
   "outputs": [],
   "source": []
  }
 ],
 "metadata": {
  "kernelspec": {
   "display_name": "Python 3",
   "language": "python",
   "name": "python3"
  },
  "language_info": {
   "codemirror_mode": {
    "name": "ipython",
    "version": 3
   },
   "file_extension": ".py",
   "mimetype": "text/x-python",
   "name": "python",
   "nbconvert_exporter": "python",
   "pygments_lexer": "ipython3",
   "version": "3.7.1"
  }
 },
 "nbformat": 4,
 "nbformat_minor": 2
}
