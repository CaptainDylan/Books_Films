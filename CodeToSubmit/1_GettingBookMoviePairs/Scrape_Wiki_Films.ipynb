{
 "cells": [
  {
   "cell_type": "code",
   "execution_count": 1,
   "metadata": {},
   "outputs": [],
   "source": [
    "## Do once!\n",
    "#!pip install beautifulsoup4\n"
   ]
  },
  {
   "cell_type": "code",
   "execution_count": 1,
   "metadata": {},
   "outputs": [],
   "source": [
    "import pandas as pd\n",
    "import requests\n",
    "import re\n",
    "from bs4 import BeautifulSoup as soup"
   ]
  },
  {
   "cell_type": "markdown",
   "metadata": {},
   "source": [
    "### This sets up the list of pages to scrape from wikipedia"
   ]
  },
  {
   "cell_type": "code",
   "execution_count": 197,
   "metadata": {},
   "outputs": [],
   "source": [
    "urls = ['https://en.wikipedia.org/wiki/List_of_fiction_works_made_into_feature_films_(0%E2%80%939,_A%E2%80%93C)',\n",
    "       'https://en.wikipedia.org/wiki/List_of_fiction_works_made_into_feature_films_(D%E2%80%93J)',\n",
    "       'https://en.wikipedia.org/wiki/List_of_fiction_works_made_into_feature_films_(K%E2%80%93R)',\n",
    "       'https://en.wikipedia.org/wiki/List_of_fiction_works_made_into_feature_films_(S%E2%80%93Z)']\n",
    "\n"
   ]
  },
  {
   "cell_type": "code",
   "execution_count": 3,
   "metadata": {},
   "outputs": [],
   "source": [
    "page1 = response.content"
   ]
  },
  {
   "cell_type": "code",
   "execution_count": 4,
   "metadata": {},
   "outputs": [],
   "source": [
    "#data[0]\n",
    "sp = soup(page1, 'html.parser')"
   ]
  },
  {
   "cell_type": "code",
   "execution_count": 100,
   "metadata": {},
   "outputs": [],
   "source": [
    "# Get all: <table class=\"wikitable\">\n",
    "tables = sp.find_all('table', attrs={'class': 'wikitable'})\n"
   ]
  },
  {
   "cell_type": "code",
   "execution_count": 101,
   "metadata": {},
   "outputs": [
    {
     "data": {
      "text/plain": [
       "3"
      ]
     },
     "execution_count": 101,
     "metadata": {},
     "output_type": "execute_result"
    }
   ],
   "source": [
    "len(tables)"
   ]
  },
  {
   "cell_type": "code",
   "execution_count": 7,
   "metadata": {},
   "outputs": [
    {
     "data": {
      "text/plain": [
       "['\\n', <tbody><tr>\n",
       " <th style=\"width:450px;\">Fiction work(s)</th>\n",
       " <th style=\"width:450px;\">Film adaptation(s)\n",
       " </th></tr>\n",
       " <tr>\n",
       " <td><i><a href=\"/wiki/The_A.B.C._Murders\" title=\"The A.B.C. Murders\">The A.B.C. Murders</a></i> (1936), <a href=\"/wiki/Agatha_Christie\" title=\"Agatha Christie\">Agatha Christie</a>\n",
       " </td>\n",
       " <td><i><a href=\"/wiki/The_Alphabet_Murders\" title=\"The Alphabet Murders\">The Alphabet Murders</a></i> (1966)<br/><i><a href=\"/wiki/List_of_Agatha_Christie%27s_Poirot_episodes#Series_Four_(1992)\" title=\"List of Agatha Christie's Poirot episodes\">The A.B.C. Murders</a></i> (1992) (TV)\n",
       " </td></tr>\n",
       " <tr>\n",
       " <td><i>À ton image</i> (1998), <a href=\"/wiki/Louise_L._Lambrichs\" title=\"Louise L. Lambrichs\">Louise L. Lambrichs</a>\n",
       " </td>\n",
       " <td><i><a href=\"/wiki/%C3%80_ton_image\" title=\"À ton image\">À ton image</a></i> (2004)\n",
       " </td></tr>\n",
       " <tr>\n",
       " <td><i><a class=\"mw-redirect\" href=\"/wiki/De_Aanslag\" title=\"De Aanslag\">De Aanslag</a></i> (<i>The Assault</i>) (1982), <a href=\"/wiki/Harry_Mulisch\" title=\"Harry Mulisch\">Harry Mulisch</a>\n",
       " </td>\n",
       " <td><i><a href=\"/wiki/The_Assault_(film)\" title=\"The Assault (film)\">The Assault</a></i> (1986)\n",
       " </td></tr>\n",
       " <tr>\n",
       " <td><i><a href=\"/wiki/About_a_Boy_(novel)\" title=\"About a Boy (novel)\">About a Boy</a></i> (1998), <a href=\"/wiki/Nick_Hornby\" title=\"Nick Hornby\">Nick Hornby</a>\n",
       " </td>\n",
       " <td><i><a href=\"/wiki/About_a_Boy_(film)\" title=\"About a Boy (film)\">About a Boy</a></i> (2002)\n",
       " </td></tr>\n",
       " <tr>\n",
       " <td><i>About Schmidt</i> (1996), <a href=\"/wiki/Louis_Begley\" title=\"Louis Begley\">Louis Begley</a>\n",
       " </td>\n",
       " <td><i><a href=\"/wiki/About_Schmidt\" title=\"About Schmidt\">About Schmidt</a></i> (2002)\n",
       " </td></tr>\n",
       " <tr>\n",
       " <td><i><a href=\"/wiki/Absolute_Power_(novel)\" title=\"Absolute Power (novel)\">Absolute Power</a></i> (1996), <a href=\"/wiki/David_Baldacci\" title=\"David Baldacci\">David Baldacci</a>\n",
       " </td>\n",
       " <td><i><a href=\"/wiki/Absolute_Power_(film)\" title=\"Absolute Power (film)\">Absolute Power</a></i> (1997)\n",
       " </td></tr>\n",
       " <tr>\n",
       " <td><i><a href=\"/wiki/The_Accidental_Tourist\" title=\"The Accidental Tourist\">The Accidental Tourist</a></i> (1985), <a href=\"/wiki/Anne_Tyler\" title=\"Anne Tyler\">Anne Tyler</a>\n",
       " </td>\n",
       " <td><i><a href=\"/wiki/The_Accidental_Tourist_(film)\" title=\"The Accidental Tourist (film)\">The Accidental Tourist</a></i> (1988)\n",
       " </td></tr>\n",
       " <tr>\n",
       " <td><i>Across 110th</i> (1970), Wally Ferris\n",
       " </td>\n",
       " <td><i><a href=\"/wiki/Across_110th_Street\" title=\"Across 110th Street\">Across 110th Street</a></i> (1972)\n",
       " </td></tr>\n",
       " <tr>\n",
       " <td><i>Adam Resurrected</i> (<i>Man, Son of a Dog</i>) (1971), <a href=\"/wiki/Yoram_Kaniuk\" title=\"Yoram Kaniuk\">Yoram Kaniuk</a>\n",
       " </td>\n",
       " <td><i><a href=\"/wiki/Adam_Resurrected\" title=\"Adam Resurrected\">Adam Resurrected</a></i> (2009)\n",
       " </td></tr>\n",
       " <tr>\n",
       " <td><i><a href=\"/wiki/Adams_Fall\" title=\"Adams Fall\">Adams Fall</a></i> (2000), Sean Desmond\n",
       " </td>\n",
       " <td><i><a class=\"mw-redirect\" href=\"/wiki/Abandon_(2002_film)\" title=\"Abandon (2002 film)\">Abandon</a></i> (2002)\n",
       " </td></tr>\n",
       " <tr>\n",
       " <td><i><a href=\"/wiki/Addie_Pray\" title=\"Addie Pray\">Addie Pray</a></i> (1971), <a href=\"/wiki/Joe_David_Brown\" title=\"Joe David Brown\">Joe David Brown</a>\n",
       " </td>\n",
       " <td><i><a href=\"/wiki/Paper_Moon_(film)\" title=\"Paper Moon (film)\">Paper Moon</a></i> (1973)\n",
       " </td></tr>\n",
       " <tr>\n",
       " <td><i>Adiliya by the River</i> (1999), Jin Renshun\n",
       " </td>\n",
       " <td><i><a href=\"/wiki/Green_Tea_(film)\" title=\"Green Tea (film)\">Green Tea</a></i> (2003)\n",
       " </td></tr>\n",
       " <tr>\n",
       " <td><i><a href=\"/wiki/Adolphe\" title=\"Adolphe\">Adolphe</a></i> (1816), <a href=\"/wiki/Benjamin_Constant\" title=\"Benjamin Constant\">Benjamin Constant</a>\n",
       " </td>\n",
       " <td><i><a href=\"/wiki/Adolphe_(film)\" title=\"Adolphe (film)\">Adolphe</a></i> (2002)\n",
       " </td></tr>\n",
       " <tr>\n",
       " <td><i>Adventure</i> (1911), <a href=\"/wiki/Jack_London\" title=\"Jack London\">Jack London</a>\n",
       " </td>\n",
       " <td><i><a href=\"/wiki/Adventure_(1925_film)\" title=\"Adventure (1925 film)\">Adventure</a></i> (1925)\n",
       " </td></tr>\n",
       " <tr>\n",
       " <td><i><a class=\"new\" href=\"/w/index.php?title=The_Adventurers_(novel)&amp;action=edit&amp;redlink=1\" title=\"The Adventurers (novel) (page does not exist)\">The Adventurers</a></i> (1966), <a href=\"/wiki/Harold_Robbins\" title=\"Harold Robbins\">Harold Robbins</a>\n",
       " </td>\n",
       " <td><i><a href=\"/wiki/The_Adventurers_(1970_film)\" title=\"The Adventurers (1970 film)\">The Adventurers</a></i> (1970)\n",
       " </td></tr>\n",
       " <tr>\n",
       " <td><i>The Adventures of Captain Alatriste</i> (<i>Las aventuras del Capitán Alatriste</i>) (1996–present) (series), <a href=\"/wiki/Arturo_P%C3%A9rez-Reverte\" title=\"Arturo Pérez-Reverte\">Arturo Pérez-Reverte</a>\n",
       " </td>\n",
       " <td><i><a href=\"/wiki/Alatriste\" title=\"Alatriste\">Alatriste</a></i> (2006)\n",
       " </td></tr>\n",
       " <tr>\n",
       " <td><i>The Adventures of Hajji Baba of Ispahan</i> (1824), <a href=\"/wiki/James_Justinian_Morier\" title=\"James Justinian Morier\">James Justinian Morier</a>\n",
       " </td>\n",
       " <td><i><a href=\"/wiki/The_Adventures_of_Hajji_Baba\" title=\"The Adventures of Hajji Baba\">The Adventures of Hajji Baba</a></i> (1954)\n",
       " </td></tr>\n",
       " <tr>\n",
       " <td><i><a href=\"/wiki/Adventures_of_Huckleberry_Finn\" title=\"Adventures of Huckleberry Finn\">Adventures of Huckleberry Finn</a></i> (1884), <a href=\"/wiki/Mark_Twain\" title=\"Mark Twain\">Mark Twain</a>\n",
       " </td>\n",
       " <td><i><a href=\"/wiki/Huck_and_Tom\" title=\"Huck and Tom\">Huck and Tom</a></i> (1918)<br/><i><a href=\"/wiki/Huckleberry_Finn_(1920_film)\" title=\"Huckleberry Finn (1920 film)\">Huckleberry Finn</a></i> (1920)<br/><i><a href=\"/wiki/Huckleberry_Finn_(1931_film)\" title=\"Huckleberry Finn (1931 film)\">Huckleberry Finn</a></i> (1931)<br/><i><a class=\"new\" href=\"/w/index.php?title=Huck_Finn_(1937_film)&amp;action=edit&amp;redlink=1\" title=\"Huck Finn (1937 film) (page does not exist)\">Huck Finn</a></i> (1937)<br/><i><a href=\"/wiki/The_Adventures_of_Huckleberry_Finn_(1939_film)\" title=\"The Adventures of Huckleberry Finn (1939 film)\">The Adventures of Huckleberry Finn</a></i> (1939)<br/><i><a href=\"/wiki/The_Adventures_of_Huckleberry_Finn_(1955_film)\" title=\"The Adventures of Huckleberry Finn (1955 film)\">The Adventures of Huckleberry Finn</a></i> (1955) (TV)<br/><i><a href=\"/wiki/The_Adventures_of_Huckleberry_Finn_(1960_film)\" title=\"The Adventures of Huckleberry Finn (1960 film)\">The Adventures of Huckleberry Finn</a></i> (1960)<br/><i><a href=\"/wiki/Huckleberry_Finn_(1974_film)\" title=\"Huckleberry Finn (1974 film)\">Huckleberry Finn</a></i> (1974)<br/><i><a href=\"/wiki/Hopelessly_Lost\" title=\"Hopelessly Lost\">Hopelessly Lost</a></i> (1972)<br/><i><a href=\"/wiki/Huckleberry_Finn_(1975_film)\" title=\"Huckleberry Finn (1975 film)\">Huckleberry Finn</a></i> (1975) (TV)<br/><i><a class=\"new\" href=\"/w/index.php?title=The_Adventures_of_Huckleberry_Finn_(1981_film)&amp;action=edit&amp;redlink=1\" title=\"The Adventures of Huckleberry Finn (1981 film) (page does not exist)\">The Adventures of Huckleberry Finn</a></i> (1981) (TV)<br/><i><a class=\"new\" href=\"/w/index.php?title=Adventures_of_Huckleberry_Finn_(1985_film)&amp;action=edit&amp;redlink=1\" title=\"Adventures of Huckleberry Finn (1985 film) (page does not exist)\">Adventures of Huckleberry Finn</a></i> (1985)<br/><i><a href=\"/wiki/The_Adventures_of_Mark_Twain_(1985_film)\" title=\"The Adventures of Mark Twain (1985 film)\">The Adventures of Mark Twain</a></i> (1985)<br/><i><a href=\"/wiki/Back_to_Hannibal:_The_Return_of_Tom_Sawyer_and_Huckleberry_Finn\" title=\"Back to Hannibal: The Return of Tom Sawyer and Huckleberry Finn\">Back to Hannibal: The Return of Tom Sawyer and Huckleberry Finn</a></i> (1990) (TV)<br/><i><a href=\"/wiki/The_Adventures_of_Huck_Finn_(1993_film)\" title=\"The Adventures of Huck Finn (1993 film)\">The Adventures of Huck Finn</a></i> (1993)<br/><i><a href=\"/wiki/Tom_and_Huck\" title=\"Tom and Huck\">Tom and Huck</a></i> (1995)<br/><i><a class=\"mw-redirect\" href=\"/wiki/Tomato_Sawyer_and_Huckleberry_Larry%27s_Big_River_Rescue\" title=\"Tomato Sawyer and Huckleberry Larry's Big River Rescue\">Tomato Sawyer and Huckleberry Larry's Big River Rescue</a></i> (2008)\n",
       " </td></tr>\n",
       " <tr>\n",
       " <td><i><a href=\"/wiki/The_Adventures_of_Pinocchio\" title=\"The Adventures of Pinocchio\">The Adventures of Pinocchio</a></i> (1883), <a href=\"/wiki/Carlo_Collodi\" title=\"Carlo Collodi\">Carlo Collodi</a>\n",
       " </td>\n",
       " <td><i><a class=\"mw-redirect\" href=\"/wiki/The_Adventures_of_Pinocchio_(1936_film)\" title=\"The Adventures of Pinocchio (1936 film)\">The Adventures of Pinocchio</a></i> (1936) (Unfinished, considered a lost film)<br/><i><a href=\"/wiki/Pinocchio_(1940_film)\" title=\"Pinocchio (1940 film)\">Pinocchio</a></i> (1940)<br/><i><a class=\"mw-redirect\" href=\"/wiki/Pinocchio_(1957_TV-musical)\" title=\"Pinocchio (1957 TV-musical)\">Pinocchio</a></i> (1957) (TV)<br/><i><a href=\"/wiki/The_Adventures_of_Buratino_(1959_film)\" title=\"The Adventures of Buratino (1959 film)\">The Adventures of Buratino</a></i> (1959)<br/><i><a href=\"/wiki/Pinocchio_in_Outer_Space\" title=\"Pinocchio in Outer Space\">Pinocchio in Outer Space</a></i> (1965)<br/><i><a href=\"/wiki/Pinocchio_(1968_film)\" title=\"Pinocchio (1968 film)\">Pinocchio</a></i> (1968) (TV)<br/><i><a href=\"/wiki/Pinocchio_(1972_film)\" title=\"Pinocchio (1972 film)\">Pinocchio</a></i> (1972)<br/><i><a class=\"mw-redirect\" href=\"/wiki/The_Adventures_of_Buratino_(1975_film)\" title=\"The Adventures of Buratino (1975 film)\">The Adventures of Buratino</a></i> (1975)<br/><i><a class=\"new\" href=\"/w/index.php?title=Pinocchio_(1976_TV-musical)&amp;action=edit&amp;redlink=1\" title=\"Pinocchio (1976 TV-musical) (page does not exist)\">Pinocchio</a></i> (1976) (TV)<br/><i><a class=\"new\" href=\"/w/index.php?title=The_Adventures_of_Pinocchio_(1984_film)&amp;action=edit&amp;redlink=1\" title=\"The Adventures of Pinocchio (1984 film) (page does not exist)\">The Adventures of Pinocchio</a></i> (1984)<br/><i><a href=\"/wiki/Pinocchio_and_the_Emperor_of_the_Night\" title=\"Pinocchio and the Emperor of the Night\">Pinocchio and the Emperor of the Night</a></i> (1987)<br/><i><a href=\"/wiki/964_Pinocchio\" title=\"964 Pinocchio\">964 Pinocchio</a></i> (1991)<br/><i><a href=\"/wiki/Pinocchio_(1992_film)\" title=\"Pinocchio (1992 film)\">Pinocchio</a></i> (1992)<br/><i><a href=\"/wiki/Pinocchio%27s_Revenge\" title=\"Pinocchio's Revenge\">Pinocchio's Revenge</a></i> (1996)<br/><i><a href=\"/wiki/The_Adventures_of_Pinocchio_(1996_film)\" title=\"The Adventures of Pinocchio (1996 film)\">The Adventures of Pinocchio</a></i> (1996)<br/><i><a class=\"mw-redirect\" href=\"/wiki/Geppetto_(TV_musical)\" title=\"Geppetto (TV musical)\">Geppetto</a></i> (2000)<br/><i><a href=\"/wiki/A.I._Artificial_Intelligence\" title=\"A.I. Artificial Intelligence\">A.I. Artificial Intelligence</a></i> (2001)<br/><i><a href=\"/wiki/A_Tree_of_Palme\" title=\"A Tree of Palme\">A Tree of Palme</a></i> (2002)<br/><i><a href=\"/wiki/Pinocchio_(2002_film)\" title=\"Pinocchio (2002 film)\">Pinocchio</a></i> (2002)<br/><i><a href=\"/wiki/Pinocchio_3000\" title=\"Pinocchio 3000\">Pinocchio 3000</a></i> (2004)<br/><i><a class=\"mw-redirect\" href=\"/wiki/Pinocchio_(2008_film)\" title=\"Pinocchio (2008 film)\">Pinocchio</a></i> (2008)<br/><i><a class=\"mw-redirect\" href=\"/wiki/Pistachio_%E2%80%93_The_Little_Boy_That_Woodn%27t\" title=\"Pistachio – The Little Boy That Woodn't\">Pistachio – The Little Boy That Woodn't</a></i> (2010)\n",
       " </td></tr>\n",
       " <tr>\n",
       " <td><i><a href=\"/wiki/The_Adventures_of_Sherlock_Holmes\" title=\"The Adventures of Sherlock Holmes\">The Adventures of Sherlock Holmes</a></i> (1891–1892) (series), (1892) (novel), <a href=\"/wiki/Arthur_Conan_Doyle\" title=\"Arthur Conan Doyle\">Arthur Conan Doyle</a>\n",
       " </td>\n",
       " <td><i><a href=\"/wiki/Adventures_of_Sherlock_Holmes;_or,_Held_for_Ransom\" title=\"Adventures of Sherlock Holmes; or, Held for Ransom\">Adventures of Sherlock Holmes; or, Held for Ransom</a></i> (1905)<br/><i><a class=\"new\" href=\"/w/index.php?title=The_Adventures_of_Sherlock_Holmes_(1921_film)&amp;action=edit&amp;redlink=1\" title=\"The Adventures of Sherlock Holmes (1921 film) (page does not exist)\">The Adventures of Sherlock Holmes</a></i> (1921)<br/><i><a href=\"/wiki/The_Adventures_of_Sherlock_Holmes_(film)\" title=\"The Adventures of Sherlock Holmes (film)\">The Adventures of Sherlock Holmes</a></i> (1939)<br/><i><a href=\"/wiki/The_Adventures_of_Sherlock_Holmes_and_Dr._Watson\" title=\"The Adventures of Sherlock Holmes and Dr. Watson\">The Adventures of Sherlock Holmes and Dr. Watson</a></i> (1979–1986) (series)<br/><i><a class=\"mw-redirect\" href=\"/wiki/Sheerluck_Holmes_and_the_Golden_Ruler\" title=\"Sheerluck Holmes and the Golden Ruler\">Sheerluck Holmes and the Golden Ruler</a></i> (2006/5)\n",
       " </td></tr>\n",
       " <tr>\n",
       " <td><i><a href=\"/wiki/The_Adventures_of_Tom_Sawyer\" title=\"The Adventures of Tom Sawyer\">The Adventures of Tom Sawyer</a></i> (1876), <a href=\"/wiki/Mark_Twain\" title=\"Mark Twain\">Mark Twain</a>\n",
       " </td>\n",
       " <td><i><a href=\"/wiki/Tom_Sawyer_(1907_film)\" title=\"Tom Sawyer (1907 film)\">Tom Sawyer</a></i> (1907)<br/><i><a href=\"/wiki/Tom_Sawyer_(1917_film)\" title=\"Tom Sawyer (1917 film)\">Tom Sawyer</a></i> (1917)<br/>* <i><a href=\"/wiki/Huck_and_Tom\" title=\"Huck and Tom\">Huck and Tom</a></i> (1918)<br/><i><a href=\"/wiki/Tom_Sawyer_(1930_film)\" title=\"Tom Sawyer (1930 film)\">Tom Sawyer</a></i> (1930)<br/>* <i><a href=\"/wiki/Huckleberry_Finn_(1931_film)\" title=\"Huckleberry Finn (1931 film)\">Huckleberry Finn</a></i> (1931)<br/><i><a href=\"/wiki/The_Adventures_of_Tom_Sawyer_(1938_film)\" title=\"The Adventures of Tom Sawyer (1938 film)\">The Adventures of Tom Sawyer</a></i> (1938)<br/><i><a class=\"new\" href=\"/w/index.php?title=Tom_Sawyer_(1936_film)&amp;action=edit&amp;redlink=1\" title=\"Tom Sawyer (1936 film) (page does not exist)\">Tom Sawyer</a></i> (1936)<br/><i><a href=\"/wiki/The_Adventures_of_Mark_Twain_(1944_film)\" title=\"The Adventures of Mark Twain (1944 film)\">The Adventures of Mark Twain</a></i> (1944)<br/><i><a href=\"/wiki/Tom_Sawyer_(1973_film)\" title=\"Tom Sawyer (1973 film)\">Tom Sawyer</a></i> (1973)<br/>* <i><a href=\"/wiki/Huckleberry_Finn_(1974_film)\" title=\"Huckleberry Finn (1974 film)\">Huckleberry Finn</a></i> (1974)<br/><i><a class=\"new\" href=\"/w/index.php?title=Tom_Sawyer_(1973_television_film)&amp;action=edit&amp;redlink=1\" title=\"Tom Sawyer (1973 television film) (page does not exist)\">Tom Sawyer</a></i> (1973) (TV)<br/>* <i><a href=\"/wiki/Huckleberry_Finn_(1975_film)\" title=\"Huckleberry Finn (1975 film)\">Huckleberry Finn</a></i> (1975) (TV)<br/><i><a class=\"new\" href=\"/w/index.php?title=Tom_Sawyer_(1984_film)&amp;action=edit&amp;redlink=1\" title=\"Tom Sawyer (1984 film) (page does not exist)\">Tom Sawyer</a></i> (1984)<br/><i><a href=\"/wiki/The_Adventures_of_Mark_Twain_(1985_film)\" title=\"The Adventures of Mark Twain (1985 film)\">The Adventures of Mark Twain</a></i> (1985)<br/><i><a href=\"/wiki/Back_to_Hannibal:_The_Return_of_Tom_Sawyer_and_Huckleberry_Finn\" title=\"Back to Hannibal: The Return of Tom Sawyer and Huckleberry Finn\">Back to Hannibal: The Return of Tom Sawyer and Huckleberry Finn</a></i> (1990) (TV)<br/><i><a href=\"/wiki/Tom_and_Huck\" title=\"Tom and Huck\">Tom and Huck</a></i> (1995)<br/><i><a href=\"/wiki/Tom_Sawyer_(2000_film)\" title=\"Tom Sawyer (2000 film)\">Tom Sawyer</a></i> (2000)\n",
       " </td></tr>\n",
       " <tr>\n",
       " <td><i><a href=\"/wiki/Advise_and_Consent\" title=\"Advise and Consent\">Advise and Consent</a></i> (1959), <a href=\"/wiki/Allen_Drury\" title=\"Allen Drury\">Allen Drury</a>\n",
       " </td>\n",
       " <td><i><a class=\"mw-redirect\" href=\"/wiki/Advise_%26_Consent_(film)\" title=\"Advise &amp; Consent (film)\">Advise &amp; Consent</a></i> (1962)\n",
       " </td></tr>\n",
       " <tr>\n",
       " <td><i><a href=\"/wiki/Aelita_(novel)\" title=\"Aelita (novel)\">Aelita</a></i> (1923) (a. k. a. <i>Aelita or, The Decline of Mars</i>), <a href=\"/wiki/Aleksey_Nikolayevich_Tolstoy\" title=\"Aleksey Nikolayevich Tolstoy\">Alexei Tolstoy</a>\n",
       " </td>\n",
       " <td><i><a href=\"/wiki/Aelita\" title=\"Aelita\">Aelita</a></i> (1924)\n",
       " </td></tr>\n",
       " <tr>\n",
       " <td><i><a href=\"/wiki/The_African_Queen_(novel)\" title=\"The African Queen (novel)\">The African Queen</a></i> (1935), <a href=\"/wiki/C._S._Forester\" title=\"C. S. Forester\">C. S. Forester</a>\n",
       " </td>\n",
       " <td><i><a href=\"/wiki/The_African_Queen_(film)\" title=\"The African Queen (film)\">The African Queen</a></i> (1951)\n",
       " </td></tr>\n",
       " <tr>\n",
       " <td><i>After Dark, My Sweet</i> (1955), <a href=\"/wiki/Jim_Thompson_(writer)\" title=\"Jim Thompson (writer)\">Jim Thompson</a>\n",
       " </td>\n",
       " <td><i><a href=\"/wiki/After_Dark,_My_Sweet\" title=\"After Dark, My Sweet\">After Dark, My Sweet</a></i> (1990)\n",
       " </td></tr>\n",
       " <tr>\n",
       " <td><i>After Hours</i> (1979), <a href=\"/wiki/Edwin_Torres_(judge)\" title=\"Edwin Torres (judge)\">Edwin Torres</a>\n",
       " </td>\n",
       " <td><i><a href=\"/wiki/Carlito%27s_Way\" title=\"Carlito's Way\">Carlito's Way</a></i> (1993)\n",
       " </td></tr>\n",
       " <tr>\n",
       " <td><i><a href=\"/wiki/After_the_Funeral\" title=\"After the Funeral\">After the Funeral</a></i> (1953), <a href=\"/wiki/Agatha_Christie\" title=\"Agatha Christie\">Agatha Christie</a>\n",
       " </td>\n",
       " <td><i><a href=\"/wiki/Murder_at_the_Gallop\" title=\"Murder at the Gallop\">Murder at the Gallop</a></i> (1963)\n",
       " </td></tr>\n",
       " <tr>\n",
       " <td><i><a href=\"/wiki/The_Age_of_Innocence\" title=\"The Age of Innocence\">The Age of Innocence</a></i> (1921), <a href=\"/wiki/Edith_Wharton\" title=\"Edith Wharton\">Edith Wharton</a>\n",
       " </td>\n",
       " <td><i><a href=\"/wiki/The_Age_of_Innocence#Film,_TV_or_theatrical_adaptations_-_The_Age_of_Innocence_(1924_film)\" title=\"The Age of Innocence\">The Age of Innocence</a></i> (1924)<br/><i><a href=\"/wiki/The_Age_of_Innocence#Film,_TV_or_theatrical_adaptations_-_The_Age_of_Innocence_(1928_film)\" title=\"The Age of Innocence\">The Age of Innocence</a></i> (1928)<br/><i><a href=\"/wiki/The_Age_of_Innocence#Film,_TV_or_theatrical_adaptations_-_The_Age_of_Innocence_(1934_film)\" title=\"The Age of Innocence\">The Age of Innocence</a></i> (1934)<br/><i><a href=\"/wiki/The_Age_of_Innocence_(1993_film)\" title=\"The Age of Innocence (1993 film)\">The Age of Innocence</a></i> (1993)\n",
       " </td></tr>\n",
       " <tr>\n",
       " <td><i><a href=\"/wiki/The_Agony_and_the_Ecstasy_(novel)\" title=\"The Agony and the Ecstasy (novel)\">The Agony and the Ecstasy</a></i> (1961), <a href=\"/wiki/Irving_Stone\" title=\"Irving Stone\">Irving Stone</a>\n",
       " </td>\n",
       " <td><i><a href=\"/wiki/The_Agony_and_the_Ecstasy_(film)\" title=\"The Agony and the Ecstasy (film)\">The Agony and the Ecstasy</a></i> (1965)\n",
       " </td></tr>\n",
       " <tr>\n",
       " <td><i>Äideistä parhain</i> (<i>Mother of Mine</i>) (1999), Heikki Hietamies\n",
       " </td>\n",
       " <td><i><a class=\"mw-redirect\" href=\"/wiki/%C3%84ideist%C3%A4_parhain\" title=\"Äideistä parhain\">Äideistä parhain</a></i> (<i>Mother of Mine</i>) (2005) (a. k. a. <i>Den bästa av mödrar</i> (<a href=\"/wiki/Swedish_language\" title=\"Swedish language\">Swedish</a>))\n",
       " </td></tr>\n",
       " <tr>\n",
       " <td><i><a href=\"/wiki/Aimez-vous_Brahms%3F\" title=\"Aimez-vous Brahms?\">Aimez-vous Brahms?</a></i> (1959), <a href=\"/wiki/Fran%C3%A7oise_Sagan\" title=\"Françoise Sagan\">Françoise Sagan</a>\n",
       " </td>\n",
       " <td><i><a href=\"/wiki/Goodbye_Again_(1961_film)\" title=\"Goodbye Again (1961 film)\">Goodbye Again</a></i> (1961)<br/><i><a href=\"/wiki/Jahan_Tum_Le_Chalo\" title=\"Jahan Tum Le Chalo\">Jahan Tum Le Chalo</a></i> (1999)\n",
       " </td></tr>\n",
       " <tr>\n",
       " <td><i>Air America</i> (1985), Christopher Robbins\n",
       " </td>\n",
       " <td><i><a href=\"/wiki/Air_America_(film)\" title=\"Air America (film)\">Air America</a></i> (1990)\n",
       " </td></tr>\n",
       " <tr>\n",
       " <td><i><a class=\"mw-redirect\" href=\"/wiki/Airborn_(Oppel_novel)\" title=\"Airborn (Oppel novel)\">Airborn</a></i> (2004), <a href=\"/wiki/Kenneth_Oppel\" title=\"Kenneth Oppel\">Kenneth Oppel</a>\n",
       " </td>\n",
       " <td><i><a class=\"mw-redirect\" href=\"/wiki/Airborn_(Oppel_novel)\" title=\"Airborn (Oppel novel)\">Airborn</a></i> (2012)\n",
       " </td></tr>\n",
       " <tr>\n",
       " <td><i><a href=\"/wiki/Airport_(novel)\" title=\"Airport (novel)\">Airport</a></i> (1968), <a href=\"/wiki/Arthur_Hailey\" title=\"Arthur Hailey\">Arthur Hailey</a>\n",
       " </td>\n",
       " <td><i><a href=\"/wiki/Airport_(1970_film)\" title=\"Airport (1970 film)\">Airport</a></i> (1970)<br/>* <i><a href=\"/wiki/Airport_1975\" title=\"Airport 1975\">Airport 1975</a></i> (1975)<br/>** <i><a href=\"/wiki/Airport_%2777\" title=\"Airport '77\">Airport '77</a></i> (1977)<br/>*** <i><a href=\"/wiki/The_Concorde_..._Airport_%2779\" title=\"The Concorde ... Airport '79\">The Concorde ... Airport '79</a></i> (1979)\n",
       " </td></tr>\n",
       " <tr>\n",
       " <td><i><a href=\"/wiki/Alice_Adams_(novel)\" title=\"Alice Adams (novel)\">Alice Adams</a></i> (1921), <a href=\"/wiki/Booth_Tarkington\" title=\"Booth Tarkington\">Booth Tarkington</a>\n",
       " </td>\n",
       " <td><i><a href=\"/wiki/Alice_Adams_(1923_film)\" title=\"Alice Adams (1923 film)\">Alice Adams</a></i> (1923)<br/><i><a href=\"/wiki/Alice_Adams_(film)\" title=\"Alice Adams (film)\">Alice Adams</a></i> (1935)\n",
       " </td></tr>\n",
       " <tr>\n",
       " <td><i><a href=\"/wiki/Allan_Quatermain\" title=\"Allan Quatermain\">Allan Quatermain</a></i> (1887), Sir H. Rider Haggard\n",
       " </td>\n",
       " <td><i><a href=\"/wiki/Allan_Quatermain_and_the_Lost_City_of_Gold\" title=\"Allan Quatermain and the Lost City of Gold\">Allan Quatermain and the Lost City of Gold</a></i> (1987)\n",
       " </td></tr>\n",
       " <tr>\n",
       " <td><i><a href=\"/wiki/All_Fall_Down_(novel)\" title=\"All Fall Down (novel)\">All Fall Down</a></i> (1960), <a href=\"/wiki/James_Leo_Herlihy\" title=\"James Leo Herlihy\">James Leo Herlihy</a>\n",
       " </td>\n",
       " <td><i><a href=\"/wiki/All_Fall_Down_(film)\" title=\"All Fall Down (film)\">All Fall Down</a></i> (1962)\n",
       " </td></tr>\n",
       " <tr>\n",
       " <td><i><a href=\"/wiki/All_the_Brothers_Were_Valiant_(novel)\" title=\"All the Brothers Were Valiant (novel)\">All the Brothers Were Valiant</a></i> (1919), <a href=\"/wiki/Ben_Ames_Williams\" title=\"Ben Ames Williams\">Ben Ames Williams</a>\n",
       " </td>\n",
       " <td><i><a href=\"/wiki/All_the_Brothers_Were_Valiant_(1923_film)\" title=\"All the Brothers Were Valiant (1923 film)\">All the Brothers Were Valiant</a></i> (1923)<br/><i><a href=\"/wiki/Across_to_Singapore\" title=\"Across to Singapore\">Across to Singapore</a></i> (1928)<br/><i><a class=\"mw-redirect\" href=\"/wiki/All_the_Brothers_Were_Valiant_(1953_film)\" title=\"All the Brothers Were Valiant (1953 film)\">All the Brothers Were Valiant</a></i> (1953)\n",
       " </td></tr>\n",
       " <tr>\n",
       " <td><i><a href=\"/wiki/All_the_King%27s_Men\" title=\"All the King's Men\">All the King's Men</a></i> (1946), <a href=\"/wiki/Robert_Penn_Warren\" title=\"Robert Penn Warren\">Robert Penn Warren</a>\n",
       " </td>\n",
       " <td><i><a href=\"/wiki/All_the_King%27s_Men_(1949_film)\" title=\"All the King's Men (1949 film)\">All the King's Men</a></i> (1949)<br/><i><a href=\"/wiki/All_the_King%27s_Men_(2006_film)\" title=\"All the King's Men (2006 film)\">All the King's Men</a></i> (2006)\n",
       " </td></tr>\n",
       " <tr>\n",
       " <td><i><a href=\"/wiki/All_the_Pretty_Horses_(novel)\" title=\"All the Pretty Horses (novel)\">All the Pretty Horses</a></i> (1992), <a href=\"/wiki/Cormac_McCarthy\" title=\"Cormac McCarthy\">Cormac McCarthy</a>\n",
       " </td>\n",
       " <td><i><a href=\"/wiki/All_the_Pretty_Horses_(film)\" title=\"All the Pretty Horses (film)\">All the Pretty Horses</a></i> (2000)\n",
       " </td></tr>\n",
       " <tr>\n",
       " <td><i>All the Rivers Run</i> (1958), <a href=\"/wiki/Nancy_Cato\" title=\"Nancy Cato\">Nancy Cato</a>\n",
       " </td>\n",
       " <td><i><a href=\"/wiki/All_the_Rivers_Run\" title=\"All the Rivers Run\">All the Rivers Run</a></i> (1983–1990) (mini)\n",
       " </td></tr>\n",
       " <tr>\n",
       " <td><i>All the Way</i> (2001), Andy Behrens\n",
       " </td>\n",
       " <td><i><a href=\"/wiki/Sex_Drive_(film)\" title=\"Sex Drive (film)\">Sex Drive</a></i> (2008)\n",
       " </td></tr>\n",
       " <tr>\n",
       " <td><i>All You Need Is Kill</i> (2009), Hiroshi Sakurazaka\n",
       " </td>\n",
       " <td><i><a class=\"mw-redirect\" href=\"/wiki/Edge_of_Tomorrow_(film)\" title=\"Edge of Tomorrow (film)\">Edge of Tomorrow</a></i> (2014)\n",
       " </td></tr>\n",
       " <tr>\n",
       " <td><i><a href=\"/wiki/Almayer%27s_Folly\" title=\"Almayer's Folly\">Almayer's Folly</a></i> (1895), <a href=\"/wiki/Joseph_Conrad\" title=\"Joseph Conrad\">Joseph Conrad</a>\n",
       " </td>\n",
       " <td><i><a class=\"mw-redirect\" href=\"/wiki/Hanyut/Almayer%27s_Folly_(film)\" title=\"Hanyut/Almayer's Folly (film)\">Hanyut</a></i> (2011)<br/><i><a href=\"/wiki/Almayer%27s_Folly_(film)\" title=\"Almayer's Folly (film)\">Almayer's Folly</a></i> (2011)\n",
       " </td></tr>\n",
       " <tr>\n",
       " <td><i><a href=\"/wiki/Along_Came_a_Spider_(novel)\" title=\"Along Came a Spider (novel)\">Along Came a Spider</a></i> (1993), <a href=\"/wiki/James_Patterson\" title=\"James Patterson\">James Patterson</a>\n",
       " </td>\n",
       " <td><i><a href=\"/wiki/Along_Came_a_Spider_(film)\" title=\"Along Came a Spider (film)\">Along Came a Spider</a></i> (2001)\n",
       " </td></tr>\n",
       " <tr>\n",
       " <td><i>Altered States</i> (1978), <a href=\"/wiki/Paddy_Chayefsky\" title=\"Paddy Chayefsky\">Paddy Chayefsky</a>\n",
       " </td>\n",
       " <td><i><a href=\"/wiki/Altered_States\" title=\"Altered States\">Altered States</a></i> (1980)\n",
       " </td></tr>\n",
       " <tr>\n",
       " <td><i>Always Another Dawn</i> (1948), <a href=\"/wiki/Zelma_Roberts\" title=\"Zelma Roberts\">Zelma Roberts</a>\n",
       " </td>\n",
       " <td><i><a href=\"/wiki/Always_Another_Dawn\" title=\"Always Another Dawn\">Always Another Dawn</a></i> (1948)\n",
       " </td></tr>\n",
       " <tr>\n",
       " <td><i><a href=\"/wiki/Always_Outnumbered,_Always_Outgunned\" title=\"Always Outnumbered, Always Outgunned\">Always Outnumbered, Always Outgunned</a></i> (1987), <a href=\"/wiki/Walter_Mosley\" title=\"Walter Mosley\">Walter Mosley</a>\n",
       " </td>\n",
       " <td><i><a href=\"/wiki/Always_Outnumbered\" title=\"Always Outnumbered\">Always Outnumbered</a></i> (1998) (TV)\n",
       " </td></tr>\n",
       " <tr>\n",
       " <td><i>El Amante Bilingüe</i> (<i>The Bilingual Lover</i>) (1990), <a href=\"/wiki/Juan_Mars%C3%A9\" title=\"Juan Marsé\">Juan Marsé</a>\n",
       " </td>\n",
       " <td><i><a class=\"mw-redirect\" href=\"/wiki/El_Amante_Biling%C3%BCe\" title=\"El Amante Bilingüe\">El Amante Bilingüe</a></i> (1993)\n",
       " </td></tr>\n",
       " <tr>\n",
       " <td><i>El Amateur</i> (<i>The Amateur</i>) (1990), Mauricio Dayub\n",
       " </td>\n",
       " <td><i><a class=\"mw-redirect\" href=\"/wiki/El_Amateur\" title=\"El Amateur\">El Amateur</a></i> (1999)\n",
       " </td></tr>\n",
       " <tr>\n",
       " <td><i><a href=\"/wiki/An_American_Dream_(novel)\" title=\"An American Dream (novel)\">An American Dream</a></i> (1965), <a href=\"/wiki/Norman_Mailer\" title=\"Norman Mailer\">Norman Mailer</a>\n",
       " </td>\n",
       " <td><i><a href=\"/wiki/An_American_Dream_(film)\" title=\"An American Dream (film)\">An American Dream</a></i> (1966)\n",
       " </td></tr>\n",
       " <tr>\n",
       " <td><i><a href=\"/wiki/American_Knees\" title=\"American Knees\">American Knees</a></i> (1995), <a href=\"/wiki/Shawn_Wong\" title=\"Shawn Wong\">Shawn Wong</a>\n",
       " </td>\n",
       " <td><i><a href=\"/wiki/Americanese\" title=\"Americanese\">Americanese</a></i> (2006)\n",
       " </td></tr>\n",
       " <tr>\n",
       " <td><i><a href=\"/wiki/American_Psycho\" title=\"American Psycho\">American Psycho</a></i> (1991), <a href=\"/wiki/Bret_Easton_Ellis\" title=\"Bret Easton Ellis\">Bret Easton Ellis</a>\n",
       " </td>\n",
       " <td><i><a href=\"/wiki/American_Psycho_(film)\" title=\"American Psycho (film)\">American Psycho</a></i> (2000)<br/>* <i><a href=\"/wiki/American_Psycho_2\" title=\"American Psycho 2\">American Psycho 2: All-American Girl</a></i> (2002) (V)\n",
       " </td></tr>\n",
       " <tr>\n",
       " <td><i><a href=\"/wiki/American_Splendor\" title=\"American Splendor\">American Splendor</a></i> (1976–2008), <a href=\"/wiki/Harvey_Pekar\" title=\"Harvey Pekar\">Harvey Pekar</a>\n",
       " </td>\n",
       " <td><i><a href=\"/wiki/American_Splendor_(film)\" title=\"American Splendor (film)\">American Splendor</a></i> (2003)\n",
       " </td></tr>\n",
       " <tr>\n",
       " <td><i><a href=\"/wiki/An_American_Tragedy\" title=\"An American Tragedy\">An American Tragedy</a></i> (1925), <a href=\"/wiki/Theodore_Dreiser\" title=\"Theodore Dreiser\">Theodore Dreiser</a>\n",
       " </td>\n",
       " <td><i><a href=\"/wiki/A_Place_in_the_Sun_(film)\" title=\"A Place in the Sun (film)\">A Place in the Sun</a></i> (1951)\n",
       " </td></tr>\n",
       " <tr>\n",
       " <td><i>The Americanization of Emily</i> (1959), <a href=\"/wiki/William_Bradford_Huie\" title=\"William Bradford Huie\">William Bradford Huie</a>\n",
       " </td>\n",
       " <td><i><a href=\"/wiki/The_Americanization_of_Emily\" title=\"The Americanization of Emily\">The Americanization of Emily</a></i> (1964)\n",
       " </td></tr>\n",
       " <tr>\n",
       " <td><i><a href=\"/wiki/Amerika_(novel)\" title=\"Amerika (novel)\">Amerika</a></i> (1927), <a href=\"/wiki/Franz_Kafka\" title=\"Franz Kafka\">Franz Kafka</a>\n",
       " </td>\n",
       " <td><i><a href=\"/wiki/Klassenverh%C3%A4ltnisse\" title=\"Klassenverhältnisse\">Klassenverhältnisse</a></i> (<i>Class Relations</i>) (1984)<br/><i><a href=\"/wiki/Intervista\" title=\"Intervista\">Intervista</a></i> (1987)<br/><i><a href=\"/wiki/Amerika_(novel)#Amerika\" title=\"Amerika (novel)\">Amerika</a></i> (1994)\n",
       " </td></tr>\n",
       " <tr>\n",
       " <td><i><a href=\"/wiki/Les_amiti%C3%A9s_particuli%C3%A8res\" title=\"Les amitiés particulières\">Les amitiés particulières</a></i> (<i>This Special Friendship</i>) (1943), <a href=\"/wiki/Roger_Peyrefitte\" title=\"Roger Peyrefitte\">Roger Peyrefitte</a>\n",
       " </td>\n",
       " <td><i><a href=\"/wiki/Les_amiti%C3%A9s_particuli%C3%A8res_(film)\" title=\"Les amitiés particulières (film)\">Les amitiés particulières</a></i> (1964)\n",
       " </td></tr>\n",
       " <tr>\n",
       " <td><i><a href=\"/wiki/The_Amityville_Horror\" title=\"The Amityville Horror\">The Amityville Horror</a></i> (1977), <a href=\"/wiki/Jay_Anson\" title=\"Jay Anson\">Jay Anson</a>\n",
       " </td>\n",
       " <td><i><a href=\"/wiki/The_Amityville_Horror_(1979_film)\" title=\"The Amityville Horror (1979 film)\">The Amityville Horror</a></i> (1979)<br/><i><a href=\"/wiki/The_Amityville_Horror_(2005_film)\" title=\"The Amityville Horror (2005 film)\">The Amityville Horror</a></i> (2005)\n",
       " </td></tr>\n",
       " <tr>\n",
       " <td><i>El Amor infiel</i> (<i>The Unfaithful Love</i>) (1970), <a href=\"/wiki/Mario_David\" title=\"Mario David\">Mario David</a>\n",
       " </td>\n",
       " <td><i><a href=\"/wiki/El_Amor_infiel\" title=\"El Amor infiel\">El Amor infiel</a></i> (1974)\n",
       " </td></tr>\n",
       " <tr>\n",
       " <td><i>Amos Judd</i> (1895), <a href=\"/wiki/John_Ames_Mitchell\" title=\"John Ames Mitchell\">John Ames Mitchell</a>\n",
       " </td>\n",
       " <td><i><a href=\"/wiki/The_Young_Rajah\" title=\"The Young Rajah\">The Young Rajah</a></i> (1922)\n",
       " </td></tr>\n",
       " <tr>\n",
       " <td><i>Amu</i> (2005), <a href=\"/wiki/Shonali_Bose\" title=\"Shonali Bose\">Shonali Bose</a>\n",
       " </td>\n",
       " <td><i><a href=\"/wiki/Amu_(film)\" title=\"Amu (film)\">Amu</a></i> (2005)\n",
       " </td></tr>\n",
       " <tr>\n",
       " <td><i><a href=\"/wiki/La_Anam_(novel)\" title=\"La Anam (novel)\">La Anam</a></i> (<i>Sleepless</i>) (1969), <a href=\"/wiki/Ihsan_Abdel_Quddous\" title=\"Ihsan Abdel Quddous\">Ihsan Abdel Quddous</a>\n",
       " </td>\n",
       " <td><i><a class=\"mw-redirect\" href=\"/wiki/La_Anam\" title=\"La Anam\">La Anam</a></i> (1957)\n",
       " </td></tr>\n",
       " <tr>\n",
       " <td><i>Anatomy of a Murder</i> (1958), <a href=\"/wiki/John_D._Voelker\" title=\"John D. Voelker\">John D. Voelker</a> (as Robert Traver)\n",
       " </td>\n",
       " <td><i><a href=\"/wiki/Anatomy_of_a_Murder\" title=\"Anatomy of a Murder\">Anatomy of a Murder</a></i> (1959)\n",
       " </td></tr>\n",
       " <tr>\n",
       " <td><i><a href=\"/wiki/And_Now_Tomorrow\" title=\"And Now Tomorrow\">And Now Tomorrow</a></i> (1942), <a href=\"/wiki/Rachel_Field\" title=\"Rachel Field\">Rachel Field</a>\n",
       " </td>\n",
       " <td><i><a href=\"/wiki/And_Now_Tomorrow#1944_movie\" title=\"And Now Tomorrow\">And Now Tomorrow</a></i> (1944)\n",
       " </td></tr>\n",
       " <tr>\n",
       " <td><i><a href=\"/wiki/And_Then_There_Were_None\" title=\"And Then There Were None\">And Then There Were None</a></i> (1939), <a href=\"/wiki/Agatha_Christie\" title=\"Agatha Christie\">Agatha Christie</a>\n",
       " </td>\n",
       " <td><i><a href=\"/wiki/And_Then_There_Were_None_(1945_film)\" title=\"And Then There Were None (1945 film)\">And Then There Were None</a></i> (1945)<br/><i><a href=\"/wiki/And_Then_There_Were_None#Ten_Little_Indians_(1959_TV_adaptation)\" title=\"And Then There Were None\">Ten Little Indians</a></i> (1959) (TV)<br/><i><a href=\"/wiki/And_Then_There_Were_None#Gumnaam_(1965)\" title=\"And Then There Were None\">Gumnaam</a></i> (1965)<br/><i><a href=\"/wiki/Ten_Little_Indians_(1965_film)\" title=\"Ten Little Indians (1965 film)\">Ten Little Indians</a></i> (1965)<br/><i><a href=\"/wiki/And_Then_There_Were_None#Zehn_kleine_Negerlein_(1969_German_TV_adaptation)\" title=\"And Then There Were None\">Zehn kleine Negerlein</a></i> (1969) (TV)<br/><i><a href=\"/wiki/And_Then_There_Were_None_(1974_film)\" title=\"And Then There Were None (1974 film)\">And Then There Were None</a></i> (1974)<br/><i><a href=\"/wiki/Desyat_Negrityat\" title=\"Desyat Negrityat\">Desyat Negrityat</a></i> (1987)<br/><i><a href=\"/wiki/Ten_Little_Indians_(1989_film)\" title=\"Ten Little Indians (1989 film)\">Ten Little Indians</a></i> (1989)<br/><i><a href=\"/wiki/Identity_(film)\" title=\"Identity (film)\">Identity</a></i> (2003)\n",
       " </td></tr>\n",
       " <tr>\n",
       " <td><i><a href=\"/wiki/The_Anderson_Tapes_(novel)\" title=\"The Anderson Tapes (novel)\">The Anderson Tapes</a></i> (1969), <a href=\"/wiki/Lawrence_Sanders\" title=\"Lawrence Sanders\">Lawrence Sanders</a>\n",
       " </td>\n",
       " <td><i><a href=\"/wiki/The_Anderson_Tapes\" title=\"The Anderson Tapes\">The Anderson Tapes</a></i> (1971)\n",
       " </td></tr>\n",
       " <tr>\n",
       " <td><i><a href=\"/wiki/Andromeda_(novel)\" title=\"Andromeda (novel)\">Andromeda: A Space-Age Tale</a></i> (1957), <a href=\"/wiki/Ivan_Yefremov\" title=\"Ivan Yefremov\">Ivan Yefremov</a>\n",
       " </td>\n",
       " <td><i><a href=\"/wiki/The_Andromeda_Nebula\" title=\"The Andromeda Nebula\">The Andromeda Nebula</a></i> (1967)\n",
       " </td></tr>\n",
       " <tr>\n",
       " <td><i><a href=\"/wiki/The_Andromeda_Strain\" title=\"The Andromeda Strain\">The Andromeda Strain</a></i> (1969), <a href=\"/wiki/Michael_Crichton\" title=\"Michael Crichton\">Michael Crichton</a>\n",
       " </td>\n",
       " <td><i><a href=\"/wiki/The_Andromeda_Strain_(film)\" title=\"The Andromeda Strain (film)\">The Andromeda Strain</a></i> (1971)<br/><i><a class=\"mw-redirect\" href=\"/wiki/The_Andromeda_Strain_(TV_miniseries)\" title=\"The Andromeda Strain (TV miniseries)\">The Andromeda Strain</a></i> (2008) (TV)\n",
       " </td></tr>\n",
       " <tr>\n",
       " <td><i><a href=\"/wiki/Angel_(novel)\" title=\"Angel (novel)\">Angel</a></i> (1957), <a href=\"/wiki/Elizabeth_Taylor_(novelist)\" title=\"Elizabeth Taylor (novelist)\">Elizabeth Taylor</a>\n",
       " </td>\n",
       " <td><i><a href=\"/wiki/Angel_(2007_film)\" title=\"Angel (2007 film)\">Angel</a></i> (2007)\n",
       " </td></tr>\n",
       " <tr>\n",
       " <td><i>Angel Square</i> (1987), <a href=\"/wiki/Brian_Doyle_(writer)\" title=\"Brian Doyle (writer)\">Brian Doyle</a>\n",
       " </td>\n",
       " <td><i><a href=\"/wiki/Angel_Square\" title=\"Angel Square\">Angel Square</a></i> (1990)\n",
       " </td></tr>\n",
       " <tr>\n",
       " <td><i><a class=\"mw-redirect\" href=\"/wiki/Angelique_(French_series)\" title=\"Angelique (French series)\">Angélique</a></i> (1957–2012) (series), <a href=\"/wiki/Anne_Golon\" title=\"Anne Golon\">Anne Golon</a> and <a href=\"/wiki/Serge_Golon\" title=\"Serge Golon\">Serge Golon</a>\n",
       " </td>\n",
       " <td><i><a class=\"mw-redirect\" href=\"/wiki/Ang%C3%A9lique,_marquise_des_anges\" title=\"Angélique, marquise des anges\">Angélique, marquise des anges</a></i> (1964)<br/>* <i><a href=\"/wiki/Merveilleuse_Ang%C3%A9lique\" title=\"Merveilleuse Angélique\">Merveilleuse Angélique</a></i> (1965)<br/>** <i><a href=\"/wiki/Angelica_and_the_King\" title=\"Angelica and the King\"><i>Angélique et le roy</i></a></i> (1966)<br/>*** <i><a class=\"new\" href=\"/w/index.php?title=Indomptable_Ang%C3%A9lique&amp;action=edit&amp;redlink=1\" title=\"Indomptable Angélique (page does not exist)\">Indomptable Angélique</a><span class=\"noprint\" style=\"font-size:85%; font-style: normal;\"> [<a class=\"extiw\" href=\"https://fr.wikipedia.org/wiki/Indomptable_Ang%C3%A9lique\" title=\"fr:Indomptable Angélique\">fr</a>]</span></i> (1967)<br/>**** <i><a class=\"new\" href=\"/w/index.php?title=Ang%C3%A9lique_et_le_Sultan&amp;action=edit&amp;redlink=1\" title=\"Angélique et le Sultan (page does not exist)\">Angélique et le Sultan</a><span class=\"noprint\" style=\"font-size:85%; font-style: normal;\"> [<a class=\"extiw\" href=\"https://fr.wikipedia.org/wiki/Ang%C3%A9lique_et_le_Sultan\" title=\"fr:Angélique et le Sultan\">fr</a>]</span></i> (1968)\n",
       " </td></tr>\n",
       " <tr>\n",
       " <td><i><a href=\"/wiki/Angels_%26_Demons\" title=\"Angels &amp; Demons\">Angels &amp; Demons</a></i> (2000), <a href=\"/wiki/Dan_Brown\" title=\"Dan Brown\">Dan Brown</a>\n",
       " </td>\n",
       " <td><i><a href=\"/wiki/Angels_%26_Demons_(film)\" title=\"Angels &amp; Demons (film)\">Angels &amp; Demons</a></i> (2009)\n",
       " </td></tr>\n",
       " <tr>\n",
       " <td><i><a href=\"/wiki/Anglo-Saxon_Attitudes\" title=\"Anglo-Saxon Attitudes\">Anglo-Saxon Attitudes</a></i> (1956), <a href=\"/wiki/Angus_Wilson\" title=\"Angus Wilson\">Angus Wilson</a>\n",
       " </td>\n",
       " <td><i><a href=\"/wiki/Anglo-Saxon_Attitudes#Film_adaptation\" title=\"Anglo-Saxon Attitudes\">Anglo-Saxon Attitudes</a></i> (1992)\n",
       " </td></tr>\n",
       " <tr>\n",
       " <td><i><a href=\"/wiki/The_Angry_Hills\" title=\"The Angry Hills\">The Angry Hills</a></i> (1955), <a href=\"/wiki/Leon_Uris\" title=\"Leon Uris\">Leon Uris</a>\n",
       " </td>\n",
       " <td><i><a href=\"/wiki/The_Angry_Hills_(film)\" title=\"The Angry Hills (film)\">The Angry Hills</a></i> (1959)\n",
       " </td></tr>\n",
       " <tr>\n",
       " <td><i>Die Angst des Tormanns beim Elfmeter</i> (<i>The Goalkeeper's Fear of the Penalty</i>) (1970), <a href=\"/wiki/Peter_Handke\" title=\"Peter Handke\">Peter Handke</a>\n",
       " </td>\n",
       " <td><i><a href=\"/wiki/The_Goalkeeper%27s_Fear_of_the_Penalty\" title=\"The Goalkeeper's Fear of the Penalty\">The Goalkeeper's Fear of the Penalty</a></i> (1972)\n",
       " </td></tr>\n",
       " <tr>\n",
       " <td><i><a class=\"new\" href=\"/w/index.php?title=Un_animal_dou%C3%A9_de_raison&amp;action=edit&amp;redlink=1\" title=\"Un animal doué de raison (page does not exist)\">Un animal doué de raison</a></i> (<i>A Sentient Animal</i>) (1967), <a href=\"/wiki/Robert_Merle\" title=\"Robert Merle\">Robert Merle</a>\n",
       " </td>\n",
       " <td><i><a href=\"/wiki/The_Day_of_the_Dolphin\" title=\"The Day of the Dolphin\">The Day of the Dolphin</a></i> (1973)\n",
       " </td></tr>\n",
       " <tr>\n",
       " <td><i><a href=\"/wiki/Animal_Farm\" title=\"Animal Farm\">Animal Farm</a></i> (1945), <a href=\"/wiki/George_Orwell\" title=\"George Orwell\">George Orwell</a>\n",
       " </td>\n",
       " <td><i><a href=\"/wiki/Animal_Farm_(1954_film)\" title=\"Animal Farm (1954 film)\">Animal Farm</a></i> (1954)<br/><i><a href=\"/wiki/Animal_Farm_(1999_film)\" title=\"Animal Farm (1999 film)\">Animal Farm</a></i> (1999) (TV)\n",
       " </td></tr>\n",
       " <tr>\n",
       " <td><i><a href=\"/wiki/Anna_and_the_King_of_Siam_(novel)\" title=\"Anna and the King of Siam (novel)\">Anna and the King of Siam</a></i> (1944), <a href=\"/wiki/Margaret_Landon\" title=\"Margaret Landon\">Margaret Landon</a>\n",
       " </td>\n",
       " <td><i><a href=\"/wiki/Anna_and_the_King_of_Siam_(film)\" title=\"Anna and the King of Siam (film)\">Anna and the King of Siam</a></i> (1946)<br/><i><a href=\"/wiki/The_King_and_I_(1956_film)\" title=\"The King and I (1956 film)\">The King and I</a></i> (1956)<br/><i><a href=\"/wiki/The_King_and_I_(1999_film)\" title=\"The King and I (1999 film)\">The King and I</a></i> (1999)<br/><i><a href=\"/wiki/Anna_and_the_King\" title=\"Anna and the King\">Anna and the King</a></i> (1999)\n",
       " </td></tr>\n",
       " <tr>\n",
       " <td><i><a href=\"/wiki/Anna_Karenina\" title=\"Anna Karenina\">Anna Karenina</a></i> (1873–1887) (serial), (1888) (novel), <a href=\"/wiki/Leo_Tolstoy\" title=\"Leo Tolstoy\">Leo Tolstoy</a>\n",
       " </td>\n",
       " <td><i><a href=\"/wiki/Anna_Karenina_(1914_film)\" title=\"Anna Karenina (1914 film)\">Anna Karenina</a></i> (1914)<br/><i><a href=\"/wiki/Anna_Karenina_(1915_film)\" title=\"Anna Karenina (1915 film)\">Anna Karenina</a></i> (1915)<br/><i><a href=\"/wiki/Love_(1927_American_film)\" title=\"Love (1927 American film)\">Love</a></i> (1927)<br/><i><a href=\"/wiki/Anna_Karenina_(1935_film)\" title=\"Anna Karenina (1935 film)\">Anna Karenina</a></i> (1935)<br/><i><a href=\"/wiki/Anna_Karenina_(1948_film)\" title=\"Anna Karenina (1948 film)\">Anna Karenina</a></i> (1948)<br/><i><a class=\"mw-redirect\" href=\"/wiki/Nahr_al-Hob\" title=\"Nahr al-Hob\">Nahr al-Hob</a></i> (<i>River of Love</i>) (1960)<br/><i><a href=\"/wiki/Anna_Karenina_(1967_film)\" title=\"Anna Karenina (1967 film)\">Anna Karenina</a></i> (1967)<br/><i><a class=\"new\" href=\"/w/index.php?title=Anna_Karenina_(1974_film)&amp;action=edit&amp;redlink=1\" title=\"Anna Karenina (1974 film) (page does not exist)\">Anna Karenina</a></i> (1974)<br/><i><a href=\"/wiki/Anna_Karenina_(1985_film)\" title=\"Anna Karenina (1985 film)\">Anna Karenina</a></i> (1985)<br/><i><a href=\"/wiki/Anna_Karenina_(1997_film)\" title=\"Anna Karenina (1997 film)\">Anna Karenina</a></i> (1997)<br/><i><a class=\"new\" href=\"/w/index.php?title=Anna_Karenina_(2005_film)&amp;action=edit&amp;redlink=1\" title=\"Anna Karenina (2005 film) (page does not exist)\">Anna Karenina</a></i> (2005)<br/><i><a href=\"/wiki/Anna_Karenina_(2012_film)\" title=\"Anna Karenina (2012 film)\">Anna Karenina</a></i> (2012)\n",
       " </td></tr>\n",
       " <tr>\n",
       " <td><i>Anna to the Infinite Power</i> (1979), <a href=\"/wiki/Mildred_Ames\" title=\"Mildred Ames\">Mildred Ames</a>\n",
       " </td>\n",
       " <td><i><a href=\"/wiki/Anna_to_the_Infinite_Power\" title=\"Anna to the Infinite Power\">Anna to the Infinite Power</a></i> (1983)\n",
       " </td></tr>\n",
       " <tr>\n",
       " <td><i><a href=\"/wiki/Anne_of_Avonlea\" title=\"Anne of Avonlea\">Anne of Avonlea</a></i> (1909), <a href=\"/wiki/Lucy_Maud_Montgomery\" title=\"Lucy Maud Montgomery\">Lucy Maud Montgomery</a>\n",
       " </td>\n",
       " <td><i><a href=\"/wiki/Anne_of_Avonlea_(1975_film)\" title=\"Anne of Avonlea (1975 film)\">Anne of Avonlea</a></i> (1975) (TV)<br/><i><a class=\"mw-redirect\" href=\"/wiki/Anne_of_Avonlea_(1987_film)\" title=\"Anne of Avonlea (1987 film)\">Anne of Avonlea</a></i> (1987) (TV)\n",
       " </td></tr>\n",
       " <tr>\n",
       " <td><i><a href=\"/wiki/Anne_of_Green_Gables\" title=\"Anne of Green Gables\">Anne of Green Gables</a></i> (1908), <a href=\"/wiki/Lucy_Maud_Montgomery\" title=\"Lucy Maud Montgomery\">Lucy Maud Montgomery</a>\n",
       " </td>\n",
       " <td><i><a href=\"/wiki/Anne_of_Green_Gables_(1919_film)\" title=\"Anne of Green Gables (1919 film)\">Anne of Green Gables</a></i> (1919)<br/><i><a href=\"/wiki/Anne_of_Green_Gables_(1934_film)\" title=\"Anne of Green Gables (1934 film)\">Anne of Green Gables</a></i> (1934)<br/>* <i><a href=\"/wiki/Anne_of_Windy_Poplars\" title=\"Anne of Windy Poplars\">Anne of Windy Poplars</a></i> (1940)<br/><i><a href=\"/wiki/Anne_of_Green_Gables_(1956_film)\" title=\"Anne of Green Gables (1956 film)\">Anne of Green Gables</a></i> (1956) (TV)<br/><i><a class=\"mw-redirect\" href=\"/wiki/Anne_of_Green_Gables_(1972_TV_series)\" title=\"Anne of Green Gables (1972 TV series)\">Anne of Green Gables</a></i> (1972) (TV)<br/>* <i><a href=\"/wiki/Anne_of_Avonlea_(1975_film)\" title=\"Anne of Avonlea (1975 film)\">Anne of Avonlea</a></i> (1975) (TV)<br/><i><a href=\"/wiki/Anne_of_Green_Gables_(1985_film)\" title=\"Anne of Green Gables (1985 film)\">Anne of Green Gables</a></i> (1985) (TV)<br/>** <i><a class=\"mw-redirect\" href=\"/wiki/Anne_of_Avonlea_(1987_film)\" title=\"Anne of Avonlea (1987 film)\">Anne of Avonlea</a></i> (1987) (TV)<br/>** * <i><a href=\"/wiki/Anne_of_Green_Gables:_The_Continuing_Story\" title=\"Anne of Green Gables: The Continuing Story\">Anne of Green Gables: The Continuing Story</a></i> (2000) (TV)<br/>** ** <i><a href=\"/wiki/Anne_of_Green_Gables:_A_New_Beginning\" title=\"Anne of Green Gables: A New Beginning\">Anne of Green Gables: A New Beginning</a></i> (2009) (TV)\n",
       " </td></tr>\n",
       " <tr>\n",
       " <td><i>L'Année des méduses</i> (<i>The Year of the Jellyfish</i>) (1983), <a class=\"extiw\" href=\"https://fr.wikipedia.org/wiki/Christopher_Frank\" title=\"fr:Christopher Frank\">Christopher Frank</a>\n",
       " </td>\n",
       " <td><i><a href=\"/wiki/Year_of_the_Jellyfish\" title=\"Year of the Jellyfish\">L'Année des méduses</a></i> (<i>Year of the Jellyfish</i>) (1984)\n",
       " </td></tr>\n",
       " <tr>\n",
       " <td><i>The Anointed</i> (1937), <a href=\"/wiki/Clyde_Brion_Davis\" title=\"Clyde Brion Davis\">Clyde Brion Davis</a>\n",
       " </td>\n",
       " <td><i><a href=\"/wiki/Adventure_(1945_film)\" title=\"Adventure (1945 film)\">Adventure</a></i> (1945)\n",
       " </td></tr>\n",
       " <tr>\n",
       " <td><i><a href=\"/wiki/The_Antagonists\" title=\"The Antagonists\">The Antagonists</a></i> (1971), <a href=\"/wiki/Ernest_K._Gann\" title=\"Ernest K. Gann\">Ernest K. Gann</a>\n",
       " </td>\n",
       " <td><i><a href=\"/wiki/Masada_(miniseries)\" title=\"Masada (miniseries)\">Masada</a></i> (1987) (TV) (mini)\n",
       " </td></tr>\n",
       " <tr>\n",
       " <td><i>Anthony Adverse</i> (1933), <a href=\"/wiki/Hervey_Allen\" title=\"Hervey Allen\">Hervey Allen</a>\n",
       " </td>\n",
       " <td><i><a href=\"/wiki/Anthony_Adverse\" title=\"Anthony Adverse\">Anthony Adverse</a></i> (1936)\n",
       " </td></tr>\n",
       " <tr>\n",
       " <td><i>Antikiller</i> (<i>Антикиллер</i>) (1999), Daniil Koretsky\n",
       " </td>\n",
       " <td><i><a href=\"/wiki/Antikiller\" title=\"Antikiller\">Antikiller</a></i> (2002)\n",
       " </td></tr>\n",
       " <tr>\n",
       " <td><i><a href=\"/wiki/Antonieta\" title=\"Antonieta\">Antonieta</a></i> (1978), <a href=\"/wiki/Andr%C3%A9s_Henestrosa\" title=\"Andrés Henestrosa\">Andrés Henestrosa</a>\n",
       " </td>\n",
       " <td><i><a href=\"/wiki/Antonieta\" title=\"Antonieta\">Antonieta</a></i> (1982)\n",
       " </td></tr>\n",
       " <tr>\n",
       " <td><i>Apache Rising</i> (1957), <a href=\"/wiki/Marvin_Albert\" title=\"Marvin Albert\">Marvin H. Albert</a>\n",
       " </td>\n",
       " <td><i><a href=\"/wiki/Duel_at_Diablo\" title=\"Duel at Diablo\">Duel at Diablo</a></i> (1966)\n",
       " </td></tr>\n",
       " <tr>\n",
       " <td><i>A Job for Jenny</i> (1945) (a. k. a. <i>A Job for Jenny</i>), <a href=\"/wiki/Faith_Baldwin\" title=\"Faith Baldwin\">Faith Baldwin</a>\n",
       " </td>\n",
       " <td><i><a href=\"/wiki/Apartment_for_Peggy\" title=\"Apartment for Peggy\">Apartment for Peggy</a></i> (1948)\n",
       " </td></tr>\n",
       " <tr>\n",
       " <td><i><a href=\"/wiki/The_Apocalypse_Watch\" title=\"The Apocalypse Watch\">The Apocalypse Watch</a></i> (1995), <a href=\"/wiki/Robert_Ludlum\" title=\"Robert Ludlum\">Robert Ludlum</a>\n",
       " </td>\n",
       " <td><i><a href=\"/wiki/The_Apocalypse_Watch\" title=\"The Apocalypse Watch\">The Apocalypse Watch</a></i> (1997) (TV)\n",
       " </td></tr>\n",
       " <tr>\n",
       " <td><i><a href=\"/wiki/The_Apple_Dumpling_Gang\" title=\"The Apple Dumpling Gang\">The Apple Dumpling Gang</a></i> (1971), <a href=\"/wiki/Jack_Bickham\" title=\"Jack Bickham\">Jack Bickham</a>\n",
       " </td>\n",
       " <td><i><a href=\"/wiki/The_Apple_Dumpling_Gang_(film)\" title=\"The Apple Dumpling Gang (film)\">The Apple Dumpling Gang</a></i> (1975)<br/>* <i><a href=\"/wiki/The_Apple_Dumpling_Gang_Rides_Again\" title=\"The Apple Dumpling Gang Rides Again\">The Apple Dumpling Gang Rides Again</a></i> (1979)<br/>** <i><a class=\"mw-redirect\" href=\"/wiki/List_of_Disney_made_for_TV_movies#Tales_from_the_Apple_Dumpling_Gang\" title=\"List of Disney made for TV movies\">Tales from the Apple Dumpling Gang</a></i> (1982) (TV)\n",
       " </td></tr>\n",
       " <tr>\n",
       " <td><i><a href=\"/wiki/Appointment_with_Death\" title=\"Appointment with Death\">Appointment with Death</a></i> (1938), <a href=\"/wiki/Agatha_Christie\" title=\"Agatha Christie\">Agatha Christie</a>\n",
       " </td>\n",
       " <td><i><a class=\"mw-redirect\" href=\"/wiki/Appointment_With_Death_(film)\" title=\"Appointment With Death (film)\">Appointment with Death</a></i> (1988)\n",
       " </td></tr>\n",
       " <tr>\n",
       " <td><i><a href=\"/wiki/Appointment_with_Venus\" title=\"Appointment with Venus\">Appointment with Venus</a></i> (1951), <a href=\"/wiki/Jerrard_Tickell\" title=\"Jerrard Tickell\">Jerrard Tickell</a>\n",
       " </td>\n",
       " <td><i><a href=\"/wiki/Appointment_with_Venus_(film)\" title=\"Appointment with Venus (film)\">Appointment with Venus</a></i> (1951)\n",
       " </td></tr>\n",
       " <tr>\n",
       " <td><i><a href=\"/wiki/The_Apprenticeship_of_Duddy_Kravitz_(novel)\" title=\"The Apprenticeship of Duddy Kravitz (novel)\">The Apprenticeship of Duddy Kravitz</a></i> (1959), <a href=\"/wiki/Mordecai_Richler\" title=\"Mordecai Richler\">Mordecai Richler</a>\n",
       " </td>\n",
       " <td><i><a href=\"/wiki/The_Apprenticeship_of_Duddy_Kravitz_(film)\" title=\"The Apprenticeship of Duddy Kravitz (film)\">The Apprenticeship of Duddy Kravitz</a></i> (1974)\n",
       " </td></tr>\n",
       " <tr>\n",
       " <td><i><a href=\"/wiki/Armageddon_2419_A.D.\" title=\"Armageddon 2419 A.D.\">Armageddon 2419 A.D.</a></i> (1928), <a href=\"/wiki/Philip_Francis_Nowlan\" title=\"Philip Francis Nowlan\">Philip Francis Nowlan</a><br/>* <i>The Airlords of Han</i> (1929), Philip Francis Nowlan\n",
       " </td>\n",
       " <td><i><a href=\"/wiki/Buck_Rogers_(serial)\" title=\"Buck Rogers (serial)\">Buck Rogers</a></i> (1939)<br/><i><a href=\"/wiki/Buck_Rogers_in_the_25th_Century_(TV_series)#The_movie\" title=\"Buck Rogers in the 25th Century (TV series)\">Buck Rogers in the 25th Century</a></i> (1979)\n",
       " </td></tr>\n",
       " <tr>\n",
       " <td><i>L'Armée des ombres</i> (<i>The Army of Shadows</i>) (1943), <a href=\"/wiki/Joseph_Kessel\" title=\"Joseph Kessel\">Joseph Kessel</a>\n",
       " </td>\n",
       " <td><i><a class=\"mw-redirect\" href=\"/wiki/L%27Arm%C3%A9e_des_ombres\" title=\"L'Armée des ombres\">L'Armée des ombres</a></i> (<i>The Army of Shadows</i>) (1969)\n",
       " </td></tr>\n",
       " <tr>\n",
       " <td><i>Arouse and Beware</i> (1936), <a href=\"/wiki/MacKinlay_Kantor\" title=\"MacKinlay Kantor\">MacKinlay Kantor</a>\n",
       " </td>\n",
       " <td><i><a href=\"/wiki/The_Man_from_Dakota\" title=\"The Man from Dakota\">The Man from Dakota</a></i> (1940)\n",
       " </td></tr>\n",
       " <tr>\n",
       " <td><i><a href=\"/wiki/Arrowsmith_(novel)\" title=\"Arrowsmith (novel)\">Arrowsmith</a></i> (1925), <a href=\"/wiki/Sinclair_Lewis\" title=\"Sinclair Lewis\">Sinclair Lewis</a>\n",
       " </td>\n",
       " <td><i><a href=\"/wiki/Arrowsmith_(film)\" title=\"Arrowsmith (film)\">Arrowsmith</a></i> (1931)\n",
       " </td></tr>\n",
       " <tr>\n",
       " <td><i>El Asalto</i> (<i>The Robbery</i>) (1956), Enrique Silberstein\n",
       " </td>\n",
       " <td><i><a href=\"/wiki/El_Asalto\" title=\"El Asalto\">El Asalto</a></i> (<i>The Robbery</i>) (1960)\n",
       " </td></tr>\n",
       " <tr>\n",
       " <td><i>Ascenseur pour l'échafaud</i> (<i>Lift to the Scaffold</i>) (1951), Noël Calef\n",
       " </td>\n",
       " <td><i><a href=\"/wiki/Elevator_to_the_Gallows\" title=\"Elevator to the Gallows\">Elevator to the Gallows</a></i> (1958)\n",
       " </td></tr>\n",
       " <tr>\n",
       " <td><i><a href=\"/wiki/Ask_the_Dust\" title=\"Ask the Dust\">Ask the Dust</a></i> (1939), <a href=\"/wiki/John_Fante\" title=\"John Fante\">John Fante</a>\n",
       " </td>\n",
       " <td><i><a href=\"/wiki/Ask_the_Dust_(film)\" title=\"Ask the Dust (film)\">Ask the Dust</a></i> (2006)\n",
       " </td></tr>\n",
       " <tr>\n",
       " <td><i>Asking for Trouble</i> (2001), <a href=\"/wiki/Elizabeth_Young_(author)\" title=\"Elizabeth Young (author)\">Elizabeth Young</a>\n",
       " </td>\n",
       " <td><i><a href=\"/wiki/The_Wedding_Date\" title=\"The Wedding Date\">The Wedding Date</a></i> (2005)\n",
       " </td></tr>\n",
       " <tr>\n",
       " <td><i>The Asphalt Jungle</i> (1949), <a href=\"/wiki/W._R._Burnett\" title=\"W. R. Burnett\">W. R. Burnett</a>\n",
       " </td>\n",
       " <td><i><a href=\"/wiki/The_Asphalt_Jungle\" title=\"The Asphalt Jungle\">The Asphalt Jungle</a></i> (1950)<br/><i><a href=\"/wiki/The_Badlanders\" title=\"The Badlanders\">The Badlanders</a></i> (1959)\n",
       " </td></tr>\n",
       " <tr>\n",
       " <td><i><a href=\"/wiki/The_Assassination_Bureau,_Ltd\" title=\"The Assassination Bureau, Ltd\">The Assassination Bureau, Ltd</a></i> (1963), <a href=\"/wiki/Jack_London\" title=\"Jack London\">Jack London</a>\n",
       " </td>\n",
       " <td><i><a href=\"/wiki/The_Assassination_Bureau\" title=\"The Assassination Bureau\">The Assassination Bureau</a></i> (1969)\n",
       " </td></tr>\n",
       " <tr>\n",
       " <td><i><a href=\"/wiki/The_Assassination_of_Jesse_James_by_the_Coward_Robert_Ford_(novel)\" title=\"The Assassination of Jesse James by the Coward Robert Ford (novel)\">The Assassination of Jesse James by the Coward Robert Ford</a></i> (1983), <a href=\"/wiki/Ron_Hansen_(novelist)\" title=\"Ron Hansen (novelist)\">Ron Hansen</a>\n",
       " </td>\n",
       " <td><i><a href=\"/wiki/The_Assassination_of_Jesse_James_by_the_Coward_Robert_Ford\" title=\"The Assassination of Jesse James by the Coward Robert Ford\">The Assassination of Jesse James by the Coward Robert Ford</a></i> (2007)\n",
       " </td></tr>\n",
       " <tr>\n",
       " <td><i><a href=\"/wiki/L%27Assommoir\" title=\"L'Assommoir\">L'Assommoir</a></i> (1877), <a href=\"/wiki/%C3%89mile_Zola\" title=\"Émile Zola\">Émile Zola</a>\n",
       " </td>\n",
       " <td><i><a href=\"/wiki/Gervaise_(film)\" title=\"Gervaise (film)\">Gervaise</a></i> (1956)\n",
       " </td></tr>\n",
       " <tr>\n",
       " <td><i><a class=\"new\" href=\"/w/index.php?title=Assunta_Spina_(play)&amp;action=edit&amp;redlink=1\" title=\"Assunta Spina (play) (page does not exist)\">Assunta Spina</a></i> (1908), <a href=\"/wiki/Salvatore_Di_Giacomo\" title=\"Salvatore Di Giacomo\">Salvatore Di Giacomo</a>\n",
       " </td>\n",
       " <td><i><a href=\"/wiki/Assunta_Spina_(1915_film)\" title=\"Assunta Spina (1915 film)\">Assunta Spina</a></i> (1915)<br/><i><a href=\"/wiki/Assunta_Spina_(1930_film)\" title=\"Assunta Spina (1930 film)\">Assunta Spina</a></i> (1930)<br/><i><a href=\"/wiki/Assunta_Spina_(1948_film)\" title=\"Assunta Spina (1948 film)\">Assunta Spina</a></i> (1948)<br/><i><a class=\"new\" href=\"/w/index.php?title=Assunta_Spina_(2006_film)&amp;action=edit&amp;redlink=1\" title=\"Assunta Spina (2006 film) (page does not exist)\">Assunta Spina</a></i> (2006)\n",
       " </td></tr>\n",
       " <tr>\n",
       " <td><i><a href=\"/wiki/The_Astronauts\" title=\"The Astronauts\">The Astronauts</a></i> (1961), <a href=\"/wiki/Stanis%C5%82aw_Lem\" title=\"Stanisław Lem\">Stanisław Lem</a>\n",
       " </td>\n",
       " <td><i><a href=\"/wiki/First_Spaceship_on_Venus\" title=\"First Spaceship on Venus\">First Spaceship on Venus</a></i> (1960)\n",
       " </td></tr>\n",
       " <tr>\n",
       " <td><i><a href=\"/wiki/Asylum_(McGrath_novel)\" title=\"Asylum (McGrath novel)\">Asylum</a></i> (1996), <a href=\"/wiki/Patrick_McGrath_(novelist)\" title=\"Patrick McGrath (novelist)\">Patrick McGrath</a>\n",
       " </td>\n",
       " <td><i><a href=\"/wiki/Asylum_(2005_film)\" title=\"Asylum (2005 film)\">Asylum</a></i> (2005)\n",
       " </td></tr>\n",
       " <tr>\n",
       " <td><i><a href=\"/wiki/At_Play_in_the_Fields_of_the_Lord_(novel)\" title=\"At Play in the Fields of the Lord (novel)\">At Play in the Fields of the Lord</a></i> (1965), <a href=\"/wiki/Peter_Matthiessen\" title=\"Peter Matthiessen\">Peter Matthiessen</a>\n",
       " </td>\n",
       " <td><i><a href=\"/wiki/At_Play_in_the_Fields_of_the_Lord\" title=\"At Play in the Fields of the Lord\">At Play in the Fields of the Lord</a></i> (1991)\n",
       " </td></tr>\n",
       " <tr>\n",
       " <td><i><a href=\"/wiki/At_the_Earth%27s_Core_(novel)\" title=\"At the Earth's Core (novel)\">At the Earth's Core</a></i> (1914) (serial), (1922) (novel), <a href=\"/wiki/Edgar_Rice_Burroughs\" title=\"Edgar Rice Burroughs\">Edgar Rice Burroughs</a>\n",
       " </td>\n",
       " <td><i><a href=\"/wiki/At_the_Earth%27s_Core_(film)\" title=\"At the Earth's Core (film)\">At the Earth's Core</a></i> (1976)<br/><i><a class=\"mw-redirect\" href=\"/wiki/Journey_to_the_Center_of_the_Earth_(2008_Asylum_film)\" title=\"Journey to the Center of the Earth (2008 Asylum film)\">Journey to the Center of the Earth</a></i> (2008)\n",
       " </td></tr>\n",
       " <tr>\n",
       " <td><i>Atlantis</i> (1912), <a href=\"/wiki/Gerhart_Hauptmann\" title=\"Gerhart Hauptmann\">Gerhart Hauptmann</a>\n",
       " </td>\n",
       " <td><i><a href=\"/wiki/Atlantis_(1913_film)\" title=\"Atlantis (1913 film)\">Atlantis</a></i> (1913)\n",
       " </td></tr>\n",
       " <tr>\n",
       " <td><i><a href=\"/wiki/Atonement_(novel)\" title=\"Atonement (novel)\">Atonement</a></i> (2001), <a href=\"/wiki/Ian_McEwan\" title=\"Ian McEwan\">Ian McEwan</a>\n",
       " </td>\n",
       " <td><i><a href=\"/wiki/Atonement_(film)\" title=\"Atonement (film)\">Atonement</a></i> (2007)\n",
       " </td></tr>\n",
       " <tr>\n",
       " <td><i><a href=\"/wiki/Audrey_Rose_(novel)\" title=\"Audrey Rose (novel)\">Audrey Rose</a></i> (1975), Frank De Felitta\n",
       " </td>\n",
       " <td><i><a href=\"/wiki/Audrey_Rose_(film)\" title=\"Audrey Rose (film)\">Audrey Rose</a></i> (1977)\n",
       " </td></tr>\n",
       " <tr>\n",
       " <td><i>The Auction Block</i> (1914), <a href=\"/wiki/Rex_Beach\" title=\"Rex Beach\">Rex Beach</a>\n",
       " </td>\n",
       " <td><i><a href=\"/wiki/Rex_Beach#Films_based_on_his_novels_-_The_Auction_Block_(1917_film)\" title=\"Rex Beach\">The Auction Block</a></i> (1917)<br/><i><a href=\"/wiki/The_Auction_Block\" title=\"The Auction Block\">The Auction Block</a></i> (1926)\n",
       " </td></tr>\n",
       " <tr>\n",
       " <td><i><a href=\"/wiki/Auntie_Mame\" title=\"Auntie Mame\">Auntie Mame</a></i> (1955), <a href=\"/wiki/Patrick_Dennis\" title=\"Patrick Dennis\">Patrick Dennis</a>\n",
       " </td>\n",
       " <td><i><a href=\"/wiki/Auntie_Mame_(film)\" title=\"Auntie Mame (film)\">Auntie Mame</a></i> (1958)\n",
       " </td></tr>\n",
       " <tr>\n",
       " <td><i><a href=\"/wiki/Avalon_High\" title=\"Avalon High\">Avalon High</a></i> (2005), <a href=\"/wiki/Meg_Cabot\" title=\"Meg Cabot\">Meg Cabot</a>\n",
       " </td>\n",
       " <td><i><a href=\"/wiki/Avalon_High_(film)\" title=\"Avalon High (film)\">Avalon High</a></i> (2010) (TV)\n",
       " </td></tr>\n",
       " <tr>\n",
       " <td><i>The Aviator</i> (1981), <a href=\"/wiki/Ernest_K._Gann\" title=\"Ernest K. Gann\">Ernest K. Gann</a>\n",
       " </td>\n",
       " <td><i><a href=\"/wiki/The_Aviator_(1985_film)\" title=\"The Aviator (1985 film)\">The Aviator</a></i> (1985)\n",
       " </td></tr>\n",
       " <tr>\n",
       " <td><i>Away All Boats</i> (1953), Kenneth M. Dodson\n",
       " </td>\n",
       " <td><i><a href=\"/wiki/Away_All_Boats\" title=\"Away All Boats\">Away All Boats</a></i> (1956)\n",
       " </td></tr>\n",
       " <tr>\n",
       " <td><i><a href=\"/wiki/An_Awfully_Big_Adventure_(novel)\" title=\"An Awfully Big Adventure (novel)\">An Awfully Big Adventure</a></i> (1989) <a href=\"/wiki/Beryl_Bainbridge\" title=\"Beryl Bainbridge\">Beryl Bainbridge</a>\n",
       " </td>\n",
       " <td><i><a href=\"/wiki/An_Awfully_Big_Adventure\" title=\"An Awfully Big Adventure\">An Awfully Big Adventure</a></i> (1995)\n",
       " </td></tr>\n",
       " <tr>\n",
       " <td><i>The Ax</i> (1997), <a href=\"/wiki/Donald_E._Westlake\" title=\"Donald E. Westlake\">Donald E. Westlake</a>\n",
       " </td>\n",
       " <td><i><a class=\"mw-redirect\" href=\"/wiki/Le_Couperet\" title=\"Le Couperet\">Le Couperet</a></i> (2005)\n",
       " </td></tr>\n",
       " <tr>\n",
       " <td><i>Ayat-Ayat Cinta</i> (<i>The Verses of Love</i>) (2005), Habiburrahman El Shirazy\n",
       " </td>\n",
       " <td><i><a href=\"/wiki/Ayat-Ayat_Cinta\" title=\"Ayat-Ayat Cinta\">Ayat-Ayat Cinta</a></i> (2008)\n",
       " </td></tr></tbody>]"
      ]
     },
     "execution_count": 7,
     "metadata": {},
     "output_type": "execute_result"
    }
   ],
   "source": [
    "[t for t in tables]"
   ]
  },
  {
   "cell_type": "code",
   "execution_count": 8,
   "metadata": {},
   "outputs": [],
   "source": [
    "rows = tables.findAll(\"tr\")"
   ]
  },
  {
   "cell_type": "code",
   "execution_count": 93,
   "metadata": {},
   "outputs": [
    {
     "data": {
      "text/plain": [
       "124"
      ]
     },
     "execution_count": 93,
     "metadata": {},
     "output_type": "execute_result"
    }
   ],
   "source": [
    "len(rows)\n",
    "len(rows[1:])"
   ]
  },
  {
   "cell_type": "code",
   "execution_count": 10,
   "metadata": {},
   "outputs": [],
   "source": [
    "row = rows[1]"
   ]
  },
  {
   "cell_type": "code",
   "execution_count": 11,
   "metadata": {},
   "outputs": [
    {
     "data": {
      "text/plain": [
       "<tr>\n",
       "<td><i><a href=\"/wiki/The_A.B.C._Murders\" title=\"The A.B.C. Murders\">The A.B.C. Murders</a></i> (1936), <a href=\"/wiki/Agatha_Christie\" title=\"Agatha Christie\">Agatha Christie</a>\n",
       "</td>\n",
       "<td><i><a href=\"/wiki/The_Alphabet_Murders\" title=\"The Alphabet Murders\">The Alphabet Murders</a></i> (1966)<br/><i><a href=\"/wiki/List_of_Agatha_Christie%27s_Poirot_episodes#Series_Four_(1992)\" title=\"List of Agatha Christie's Poirot episodes\">The A.B.C. Murders</a></i> (1992) (TV)\n",
       "</td></tr>"
      ]
     },
     "execution_count": 11,
     "metadata": {},
     "output_type": "execute_result"
    }
   ],
   "source": [
    "row"
   ]
  },
  {
   "cell_type": "code",
   "execution_count": 12,
   "metadata": {},
   "outputs": [
    {
     "data": {
      "text/plain": [
       "<td><i><a href=\"/wiki/The_A.B.C._Murders\" title=\"The A.B.C. Murders\">The A.B.C. Murders</a></i> (1936), <a href=\"/wiki/Agatha_Christie\" title=\"Agatha Christie\">Agatha Christie</a>\n",
       "</td>"
      ]
     },
     "execution_count": 12,
     "metadata": {},
     "output_type": "execute_result"
    }
   ],
   "source": [
    "\n",
    "#row.findChild(\"td\").split(\",\")\n",
    "row.td\n"
   ]
  },
  {
   "cell_type": "code",
   "execution_count": 13,
   "metadata": {},
   "outputs": [
    {
     "data": {
      "text/plain": [
       "<i><a href=\"/wiki/The_A.B.C._Murders\" title=\"The A.B.C. Murders\">The A.B.C. Murders</a></i>"
      ]
     },
     "execution_count": 13,
     "metadata": {},
     "output_type": "execute_result"
    }
   ],
   "source": [
    "row.td.next_element"
   ]
  },
  {
   "cell_type": "code",
   "execution_count": 14,
   "metadata": {},
   "outputs": [
    {
     "data": {
      "text/plain": [
       "'/wiki/The_A.B.C._Murders'"
      ]
     },
     "execution_count": 14,
     "metadata": {},
     "output_type": "execute_result"
    }
   ],
   "source": [
    "row.td.i.a.attrs[\"href\"]"
   ]
  },
  {
   "cell_type": "code",
   "execution_count": 15,
   "metadata": {},
   "outputs": [
    {
     "data": {
      "text/plain": [
       "' (1998), '"
      ]
     },
     "execution_count": 15,
     "metadata": {},
     "output_type": "execute_result"
    }
   ],
   "source": [
    "row2 = rows[2]\n",
    "row2.td.i.next_sibling"
   ]
  },
  {
   "cell_type": "code",
   "execution_count": 16,
   "metadata": {},
   "outputs": [
    {
     "data": {
      "text/plain": [
       "<td><i>À ton image</i> (1998), <a href=\"/wiki/Louise_L._Lambrichs\" title=\"Louise L. Lambrichs\">Louise L. Lambrichs</a>\n",
       "</td>"
      ]
     },
     "execution_count": 16,
     "metadata": {},
     "output_type": "execute_result"
    }
   ],
   "source": [
    "row2.td"
   ]
  },
  {
   "cell_type": "markdown",
   "metadata": {},
   "source": [
    "### This function takes a row (TR) and parses the book info from the first cell (TD)"
   ]
  },
  {
   "cell_type": "code",
   "execution_count": 221,
   "metadata": {},
   "outputs": [],
   "source": [
    "\n",
    "def ParseTitleAndAuthor(row):\n",
    "    if row is None:\n",
    "        return None\n",
    "    if row.td is None:\n",
    "        return None\n",
    "    if row.td.i is None:\n",
    "        return None\n",
    "    title = row.td.i.text\n",
    "    if row.td.i.a is None:\n",
    "        titleUrl = None\n",
    "    else:\n",
    "        titleUrl = row.td.i.a.attrs[\"href\"]\n",
    "    title2 = None\n",
    "    last_italic = None\n",
    "    for italic in row.td.find_all('i'):\n",
    "        last_italic = italic\n",
    "    \n",
    "    if last_italic.text != title:\n",
    "        title2 = last_italic.text\n",
    "    #print(title)\n",
    "    #print(title2)\n",
    "    #print(last_italic)\n",
    "    #print(last_italic.next_sibling)\n",
    "    year = None\n",
    "    author = ''\n",
    "    if last_italic.next_sibling is not None:\n",
    "        year = ParseYear(last_italic.next_sibling)\n",
    "        yearString = last_italic.next_sibling\n",
    "        if yearString.next_sibling is not None:\n",
    "            author = yearString.next_sibling.text\n",
    "    #else:\n",
    "    #    author = ''\n",
    "    return {\"BookTitle\" : title, \"BookAltTitle\" : title2, \"BookYear\" : year, \"BookLink\" : titleUrl, \"Author\" : author}"
   ]
  },
  {
   "cell_type": "code",
   "execution_count": 226,
   "metadata": {},
   "outputs": [
    {
     "data": {
      "text/plain": [
       "{'BookTitle': 'The Dark Tower (1998–2012) (series), Stephen King',\n",
       " 'BookAltTitle': 'The Dark Tower',\n",
       " 'BookYear': None,\n",
       " 'BookLink': '/wiki/The_Dark_Tower_(series)',\n",
       " 'Author': ''}"
      ]
     },
     "execution_count": 226,
     "metadata": {},
     "output_type": "execute_result"
    }
   ],
   "source": [
    "#ParseTitleAndAuthor(row)\n",
    "ParseTitleAndAuthor(rows[21])\n"
   ]
  },
  {
   "cell_type": "code",
   "execution_count": 134,
   "metadata": {},
   "outputs": [
    {
     "data": {
      "text/plain": [
       "<td><i><a href=\"/wiki/The_Carpetbaggers\" title=\"The Carpetbaggers\">The Carpetbaggers</a></i> (1961), <a href=\"/wiki/Harold_Robbins\" title=\"Harold Robbins\">Harold Robbins</a>\n",
       "</td>"
      ]
     },
     "execution_count": 134,
     "metadata": {},
     "output_type": "execute_result"
    }
   ],
   "source": [
    "#matched = re.search('[0-9]{4}',' (1998), ')\n",
    "#matched[0]\n",
    "rows[18].td"
   ]
  },
  {
   "cell_type": "code",
   "execution_count": 191,
   "metadata": {},
   "outputs": [
    {
     "name": "stdout",
     "output_type": "stream",
     "text": [
      "<i>À ton image</i>\n"
     ]
    }
   ],
   "source": [
    "#re_year = re.compile('[0-9]{4}')\n",
    "row = tables[0].find_all('tr')[2]\n",
    "#print(row.td)\n",
    "#print(row.td.i.next_sibling)\n",
    "#print(row.td.i.next_sibling)\n",
    "last_italic = None\n",
    "for italic in row.td.find_all('i'):\n",
    "    print(italic)\n",
    "    last_italic = italic\n"
   ]
  },
  {
   "cell_type": "code",
   "execution_count": 192,
   "metadata": {},
   "outputs": [
    {
     "data": {
      "text/plain": [
       "<tr>\n",
       "<td><i>À ton image</i> (1998), <a href=\"/wiki/Louise_L._Lambrichs\" title=\"Louise L. Lambrichs\">Louise L. Lambrichs</a>\n",
       "</td>\n",
       "<td><i><a href=\"/wiki/%C3%80_ton_image\" title=\"À ton image\">À ton image</a></i> (2004)\n",
       "</td></tr>"
      ]
     },
     "execution_count": 192,
     "metadata": {},
     "output_type": "execute_result"
    }
   ],
   "source": [
    "row"
   ]
  },
  {
   "cell_type": "code",
   "execution_count": 173,
   "metadata": {},
   "outputs": [
    {
     "data": {
      "text/plain": [
       "') (1971), '"
      ]
     },
     "execution_count": 173,
     "metadata": {},
     "output_type": "execute_result"
    }
   ],
   "source": [
    "#re_year.search(' (1887) , ')\n",
    "last_italic.next_sibling"
   ]
  },
  {
   "cell_type": "code",
   "execution_count": 129,
   "metadata": {},
   "outputs": [],
   "source": [
    "def ParseYearSimple(yearString):\n",
    "    year = ''\n",
    "    if yearString is None:\n",
    "        return None\n",
    "    for c in yearString:\n",
    "        if c in ['0','1','2','3','4','5','6','7','8','9']:\n",
    "            year = year + c\n",
    "    return year\n",
    "\n",
    "def ParseYear(yearString):\n",
    "    matched = re.search('[0-9]{4}',yearString)\n",
    "    if matched is None:\n",
    "        year = None\n",
    "    else:\n",
    "        year = matched[0]\n",
    "    return year"
   ]
  },
  {
   "cell_type": "markdown",
   "metadata": {},
   "source": [
    "### This function takes a row (TR) and parses the second cell (TD) to get 1+ films"
   ]
  },
  {
   "cell_type": "code",
   "execution_count": 159,
   "metadata": {},
   "outputs": [],
   "source": [
    "def ParseFilms(row):\n",
    "    filmlist = []\n",
    "    items = row.findAll('td')\n",
    "    if len(items) <= 1:\n",
    "        print(\"No films found\")\n",
    "        print(row)\n",
    "        return None\n",
    "    for filmitem in items[1].findAll('i'):\n",
    "        title = filmitem.text\n",
    "        link = None\n",
    "        if filmitem.a is not None:\n",
    "            link = filmitem.a.attrs[\"href\"]\n",
    "        year = filmitem.next_sibling\n",
    "        if year is not None:\n",
    "            year = ParseYear(year)\n",
    "        filmlist.append({\"FilmTitle\" : title, \"FilmLink\" : link, \"FilmYear\": year})\n",
    "    return filmlist"
   ]
  },
  {
   "cell_type": "code",
   "execution_count": 107,
   "metadata": {},
   "outputs": [
    {
     "name": "stdout",
     "output_type": "stream",
     "text": [
      "No films found\n",
      "<tr>\n",
      "<td><i><a class=\"mw-redirect\" href=\"/wiki/Bicho_de_Sete_Cabe%C3%A7as\" title=\"Bicho de Sete Cabeças\">Bicho de Sete Cabeças</a></i> (<i>The Great Brain Storm</i>) (2001)\n",
      "</td></tr>\n"
     ]
    }
   ],
   "source": [
    "ParseFilms(row)"
   ]
  },
  {
   "cell_type": "code",
   "execution_count": 109,
   "metadata": {},
   "outputs": [
    {
     "data": {
      "text/plain": [
       "[{'FilmTitle': 'The Caine Mutiny',\n",
       "  'FilmLink': '/wiki/The_Caine_Mutiny_(film)',\n",
       "  'FilmYear': '1954'},\n",
       " {'FilmTitle': 'The Caine Mutiny Court-Martial',\n",
       "  'FilmLink': '/wiki/Ford_Star_Jubilee#The_Caine_Mutiny_Court-Martial',\n",
       "  'FilmYear': '1955'},\n",
       " {'FilmTitle': 'The Caine Mutiny Court-Martial',\n",
       "  'FilmLink': '/wiki/The_Caine_Mutiny_Court-Martial#1988_television_film_adaptation_for_CBS',\n",
       "  'FilmYear': '1988'}]"
      ]
     },
     "execution_count": 109,
     "metadata": {},
     "output_type": "execute_result"
    }
   ],
   "source": [
    "ParseFilms(rows[1])"
   ]
  },
  {
   "cell_type": "markdown",
   "metadata": {},
   "source": [
    "### The following is the main loop.  It will iterate through the pages, tables, rows, and parse each row into a dictionary that is added to the list"
   ]
  },
  {
   "cell_type": "code",
   "execution_count": 228,
   "metadata": {},
   "outputs": [
    {
     "name": "stdout",
     "output_type": "stream",
     "text": [
      "No films found\n",
      "<tr>\n",
      "<td><i><a class=\"mw-redirect\" href=\"/wiki/Bicho_de_Sete_Cabe%C3%A7as\" title=\"Bicho de Sete Cabeças\">Bicho de Sete Cabeças</a></i> (<i>The Great Brain Storm</i>) (2001)\n",
      "</td></tr>\n"
     ]
    }
   ],
   "source": [
    "row_list = []\n",
    "for url in urls:\n",
    "    response = requests.get(url)\n",
    "    page1 = response.content\n",
    "    sp = soup(page1, 'html.parser')\n",
    "    tables = sp.find_all('table', attrs={'class': 'wikitable'})\n",
    "    for table in tables:\n",
    "        rows = table.findAll(\"tr\")\n",
    "        for row in rows[1:]:\n",
    "            bookdata = ParseTitleAndAuthor(row)\n",
    "            filmdata = ParseFilms(row)\n",
    "            if bookdata is not None and filmdata is not None:\n",
    "                for film in filmdata:\n",
    "                    row_list.append({**bookdata, **film})"
   ]
  },
  {
   "cell_type": "code",
   "execution_count": 230,
   "metadata": {},
   "outputs": [
    {
     "name": "stdout",
     "output_type": "stream",
     "text": [
      "3354\n"
     ]
    },
    {
     "data": {
      "text/plain": [
       "{'BookTitle': 'Zuqāq al-Midaq',\n",
       " 'BookAltTitle': 'Midaq Alley',\n",
       " 'BookYear': '1947',\n",
       " 'BookLink': '/wiki/Midaq_Alley_(novel)',\n",
       " 'Author': 'Naguib Mahfouz',\n",
       " 'FilmTitle': 'El callejón de los milagros',\n",
       " 'FilmLink': '/wiki/El_callej%C3%B3n_de_los_milagros',\n",
       " 'FilmYear': '1994'}"
      ]
     },
     "execution_count": 230,
     "metadata": {},
     "output_type": "execute_result"
    }
   ],
   "source": [
    "print(len(row_list))\n",
    "row_list[-1]\n",
    "#row = rows[21]"
   ]
  },
  {
   "cell_type": "code",
   "execution_count": 231,
   "metadata": {},
   "outputs": [],
   "source": [
    "#ParseTitleAndAuthor(row)"
   ]
  },
  {
   "cell_type": "code",
   "execution_count": 215,
   "metadata": {},
   "outputs": [
    {
     "name": "stdout",
     "output_type": "stream",
     "text": [
      "<td><i><a href=\"/wiki/The_Dark_Tower_(series)\" title=\"The Dark Tower (series)\"><i>The Dark Tower</i></a> (1998–2012) (series), <a href=\"/wiki/Stephen_King\" title=\"Stephen King\">Stephen King</a></i>\n",
      "</td>\n",
      "<i><a href=\"/wiki/The_Dark_Tower_(series)\" title=\"The Dark Tower (series)\"><i>The Dark Tower</i></a> (1998–2012) (series), <a href=\"/wiki/Stephen_King\" title=\"Stephen King\">Stephen King</a></i>\n",
      "<i>The Dark Tower</i>\n"
     ]
    }
   ],
   "source": [
    "items = row.findAll('td')\n",
    "print(items[0])\n",
    "for item in items[0].findAll('i'):\n",
    "    print(item)"
   ]
  },
  {
   "cell_type": "code",
   "execution_count": 205,
   "metadata": {},
   "outputs": [
    {
     "name": "stdout",
     "output_type": "stream",
     "text": [
      "<i><a href=\"/wiki/The_Day_of_the_Triffids_(film)\" title=\"The Day of the Triffids (film)\">The Day of the Triffids</a></i>\n",
      "The Day of the Triffids\n",
      " (1962)\n",
      "<i><a href=\"/wiki/The_Day_of_the_Triffids_(film)#Remake\" title=\"The Day of the Triffids (film)\">The Day of the Triffids</a></i>\n",
      "The Day of the Triffids\n",
      " (2013)\n",
      "\n"
     ]
    }
   ],
   "source": [
    "#len(row_list)\n",
    "#row_list[156]\n",
    "#filmdata = ParseFilms(row)\n",
    "#row\n",
    "items = row.findAll('td')\n",
    "for filmitem in items[1].findAll('i'):\n",
    "    print(filmitem)\n",
    "    title = filmitem.text\n",
    "    link = None\n",
    "    if filmitem.a is not None:\n",
    "        link = filmitem.a.attrs[\"href\"]\n",
    "    year = None\n",
    "    year = filmitem.next_sibling\n",
    "    print(title)\n",
    "    print(year)\n",
    "    "
   ]
  },
  {
   "cell_type": "code",
   "execution_count": 232,
   "metadata": {},
   "outputs": [],
   "source": [
    "data = pd.DataFrame(row_list, columns = ['BookTitle','BookAltTitle','BookYear','BookLink','Author','FilmTitle','FilmLink','FilmYear'])"
   ]
  },
  {
   "cell_type": "code",
   "execution_count": 233,
   "metadata": {
    "scrolled": true
   },
   "outputs": [],
   "source": [
    "data.index.name = 'id'"
   ]
  },
  {
   "cell_type": "code",
   "execution_count": 234,
   "metadata": {},
   "outputs": [],
   "source": [
    "data.to_csv(\"books_abc.csv\")"
   ]
  },
  {
   "cell_type": "code",
   "execution_count": 130,
   "metadata": {},
   "outputs": [
    {
     "data": {
      "text/plain": [
       "'1971'"
      ]
     },
     "execution_count": 130,
     "metadata": {},
     "output_type": "execute_result"
    }
   ],
   "source": [
    "ParseYear('Adam Resurrected (Man, Son of a Dog) (1971), Yoram Kaniuk')"
   ]
  },
  {
   "cell_type": "code",
   "execution_count": 125,
   "metadata": {},
   "outputs": [
    {
     "data": {
      "text/plain": [
       "'1971'"
      ]
     },
     "execution_count": 125,
     "metadata": {},
     "output_type": "execute_result"
    }
   ],
   "source": [
    "ParseYearSimple('Adam Resurrected (Man, Son of a Dog) (1971), Yoram Kaniuk')"
   ]
  },
  {
   "cell_type": "code",
   "execution_count": 126,
   "metadata": {},
   "outputs": [],
   "source": [
    "matched = re.search('[0-9]{4}','Adam Resurrected (Man, Son of a Dog) (1971), Yoram Kaniuk')"
   ]
  },
  {
   "cell_type": "code",
   "execution_count": 127,
   "metadata": {},
   "outputs": [
    {
     "data": {
      "text/plain": [
       "<_sre.SRE_Match object; span=(38, 42), match='1971'>"
      ]
     },
     "execution_count": 127,
     "metadata": {},
     "output_type": "execute_result"
    }
   ],
   "source": [
    "matched"
   ]
  },
  {
   "cell_type": "code",
   "execution_count": 128,
   "metadata": {},
   "outputs": [
    {
     "data": {
      "text/plain": [
       "'1971'"
      ]
     },
     "execution_count": 128,
     "metadata": {},
     "output_type": "execute_result"
    }
   ],
   "source": [
    "matched[0]"
   ]
  },
  {
   "cell_type": "code",
   "execution_count": 131,
   "metadata": {},
   "outputs": [
    {
     "data": {
      "text/plain": [
       "'<tr>\\n<td><i><a class=\"new\" href=\"/w/index.php?title=The_Cypher&amp;action=edit&amp;redlink=1\" title=\"The Cypher (page does not exist)\">The Cypher</a></i> (a. k. a. <i>The Cipher</i>) (1961), Gordon Cotler\\n</td>\\n<td><i><a href=\"/wiki/Arabesque_(1966_film)\" title=\"Arabesque (1966 film)\">Arabesque</a></i> (1966)\\n</td></tr>'"
      ]
     },
     "execution_count": 131,
     "metadata": {},
     "output_type": "execute_result"
    }
   ],
   "source": [
    "str(row)"
   ]
  },
  {
   "cell_type": "code",
   "execution_count": 150,
   "metadata": {},
   "outputs": [
    {
     "data": {
      "text/plain": [
       "BookTitle                          Angélique\n",
       "BookYear                                1957\n",
       "BookLink     /wiki/Angelique_(French_series)\n",
       "Author                            Anne Golon\n",
       "FilmTitle                Angélique et le roy\n",
       "FilmLink                                None\n",
       "FilmYear                                None\n",
       "Name: 160, dtype: object"
      ]
     },
     "execution_count": 150,
     "metadata": {},
     "output_type": "execute_result"
    }
   ],
   "source": [
    "data.iloc[160]"
   ]
  },
  {
   "cell_type": "code",
   "execution_count": null,
   "metadata": {},
   "outputs": [],
   "source": [
    "data."
   ]
  }
 ],
 "metadata": {
  "kernelspec": {
   "display_name": "Python 3",
   "language": "python",
   "name": "python3"
  },
  "language_info": {
   "codemirror_mode": {
    "name": "ipython",
    "version": 3
   },
   "file_extension": ".py",
   "mimetype": "text/x-python",
   "name": "python",
   "nbconvert_exporter": "python",
   "pygments_lexer": "ipython3",
   "version": "3.6.5"
  },
  "varInspector": {
   "cols": {
    "lenName": 16,
    "lenType": 16,
    "lenVar": 40
   },
   "kernels_config": {
    "python": {
     "delete_cmd_postfix": "",
     "delete_cmd_prefix": "del ",
     "library": "var_list.py",
     "varRefreshCmd": "print(var_dic_list())"
    },
    "r": {
     "delete_cmd_postfix": ") ",
     "delete_cmd_prefix": "rm(",
     "library": "var_list.r",
     "varRefreshCmd": "cat(var_dic_list()) "
    }
   },
   "types_to_exclude": [
    "module",
    "function",
    "builtin_function_or_method",
    "instance",
    "_Feature"
   ],
   "window_display": false
  }
 },
 "nbformat": 4,
 "nbformat_minor": 1
}
